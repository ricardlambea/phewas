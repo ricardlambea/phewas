{
 "cells": [
  {
   "cell_type": "markdown",
   "id": "173620f6",
   "metadata": {},
   "source": [
    "# Table of Contents:\n",
    "* [PheWAS Exploratory Data Analaysis](#first-bullet)\n",
    "    * [ICD9-phecodes file](#second-bullet)\n",
    "    * [phecode-phenotype file](#third-bullet)\n",
    "    * [PheWAS CATALOG DUMP FILE](#fourth-bullet)\n",
    "    * [DGN DISEASE INDEX DUMP FILE](#fifth)\n",
    "    * [PHECODE - CUI FILE](#sixth)\n",
    "    * [COMPARISON PHEWAS CATALOG DATA VS. DGN+ DATA](#seventh)\n",
    "    * [OVERALL STATISTICS BETWEEN DGN+ AND PHEWAS CATALOG](#eigth)\n",
    "    * [DISTRIBUTION OF SNPs BY PHECODE](#ninth)\n",
    "    * [DISTRIBUTION OF SNPS BY ICD9 CODE](#tenth)\n",
    "    * [DISTRIBUTION OF PHECODES BY SNPS](#eleventh)\n",
    "    * [PERCENTAGE OF PHECODE - ICD9 SHARING THE SAME CODE](#twelfth)"
   ]
  },
  {
   "cell_type": "code",
   "execution_count": 2,
   "id": "5429cf33",
   "metadata": {},
   "outputs": [],
   "source": [
    "import pandas as pd\n",
    "import numpy as np\n",
    "from matplotlib import pyplot as plt\n",
    "import seaborn as sns"
   ]
  },
  {
   "cell_type": "markdown",
   "id": "1b1a9594",
   "metadata": {},
   "source": [
    "# PheWAS Exploratory Data Analaysis <a class=\"anchor\" id=\"first-bullet\"></a>"
   ]
  },
  {
   "cell_type": "markdown",
   "id": "a65ba49b",
   "metadata": {},
   "source": [
    "## ICD9-phecodes file <a class=\"anchor\" id=\"second-bullet\"></a>"
   ]
  },
  {
   "cell_type": "markdown",
   "id": "5ba0c472",
   "metadata": {},
   "source": [
    "Path to the file from the PheWAS Catalog which maps each ICD code to a Phecode:"
   ]
  },
  {
   "cell_type": "code",
   "execution_count": 3,
   "id": "b4685b8a",
   "metadata": {},
   "outputs": [],
   "source": [
    "icd_phecodes_path = \"./phecode_icd9_map_unrolled.csv\" # https://phewascatalog.org/files/phecode_icd9_map_unrolled.csv.zip"
   ]
  },
  {
   "cell_type": "code",
   "execution_count": 4,
   "id": "5a9a1f0b",
   "metadata": {},
   "outputs": [],
   "source": [
    "icd_phecodes = pd.read_csv(icd_phecodes_path, sep=\",\", header=0, dtype=str)\n",
    "icd_phecodes.phecode = icd_phecodes.phecode.astype('object')"
   ]
  },
  {
   "cell_type": "markdown",
   "id": "03af71bd",
   "metadata": {},
   "source": [
    "We perform some exploratory analysis of the data's format."
   ]
  },
  {
   "cell_type": "code",
   "execution_count": 5,
   "id": "70b877de",
   "metadata": {},
   "outputs": [
    {
     "data": {
      "text/html": [
       "<div>\n",
       "<style scoped>\n",
       "    .dataframe tbody tr th:only-of-type {\n",
       "        vertical-align: middle;\n",
       "    }\n",
       "\n",
       "    .dataframe tbody tr th {\n",
       "        vertical-align: top;\n",
       "    }\n",
       "\n",
       "    .dataframe thead th {\n",
       "        text-align: right;\n",
       "    }\n",
       "</style>\n",
       "<table border=\"1\" class=\"dataframe\">\n",
       "  <thead>\n",
       "    <tr style=\"text-align: right;\">\n",
       "      <th></th>\n",
       "      <th>icd9</th>\n",
       "      <th>phecode</th>\n",
       "    </tr>\n",
       "  </thead>\n",
       "  <tbody>\n",
       "    <tr>\n",
       "      <th>0</th>\n",
       "      <td>001</td>\n",
       "      <td>008</td>\n",
       "    </tr>\n",
       "    <tr>\n",
       "      <th>1</th>\n",
       "      <td>001.0</td>\n",
       "      <td>008</td>\n",
       "    </tr>\n",
       "    <tr>\n",
       "      <th>2</th>\n",
       "      <td>001.1</td>\n",
       "      <td>008</td>\n",
       "    </tr>\n",
       "    <tr>\n",
       "      <th>3</th>\n",
       "      <td>001.9</td>\n",
       "      <td>008</td>\n",
       "    </tr>\n",
       "    <tr>\n",
       "      <th>4</th>\n",
       "      <td>002</td>\n",
       "      <td>008</td>\n",
       "    </tr>\n",
       "  </tbody>\n",
       "</table>\n",
       "</div>"
      ],
      "text/plain": [
       "    icd9 phecode\n",
       "0    001     008\n",
       "1  001.0     008\n",
       "2  001.1     008\n",
       "3  001.9     008\n",
       "4    002     008"
      ]
     },
     "execution_count": 5,
     "metadata": {},
     "output_type": "execute_result"
    }
   ],
   "source": [
    "icd_phecodes.head()"
   ]
  },
  {
   "cell_type": "code",
   "execution_count": 6,
   "id": "4204f71a",
   "metadata": {},
   "outputs": [
    {
     "data": {
      "text/plain": [
       "(20783, 2)"
      ]
     },
     "execution_count": 6,
     "metadata": {},
     "output_type": "execute_result"
    }
   ],
   "source": [
    "icd_phecodes.shape"
   ]
  },
  {
   "cell_type": "code",
   "execution_count": 7,
   "id": "02a895ff",
   "metadata": {},
   "outputs": [
    {
     "name": "stdout",
     "output_type": "stream",
     "text": [
      "<class 'pandas.core.frame.DataFrame'>\n",
      "RangeIndex: 20783 entries, 0 to 20782\n",
      "Data columns (total 2 columns):\n",
      " #   Column   Non-Null Count  Dtype \n",
      "---  ------   --------------  ----- \n",
      " 0   icd9     20783 non-null  object\n",
      " 1   phecode  20783 non-null  object\n",
      "dtypes: object(2)\n",
      "memory usage: 324.9+ KB\n"
     ]
    }
   ],
   "source": [
    "icd_phecodes.info()"
   ]
  },
  {
   "cell_type": "code",
   "execution_count": 8,
   "id": "ab097311",
   "metadata": {},
   "outputs": [
    {
     "data": {
      "text/plain": [
       "icd9       0\n",
       "phecode    0\n",
       "dtype: int64"
      ]
     },
     "execution_count": 8,
     "metadata": {},
     "output_type": "execute_result"
    }
   ],
   "source": [
    "icd_phecodes.isna().sum()"
   ]
  },
  {
   "cell_type": "markdown",
   "id": "17e38cbc",
   "metadata": {},
   "source": [
    "How many unique phecodes are there?"
   ]
  },
  {
   "cell_type": "code",
   "execution_count": 9,
   "id": "c9c7d621",
   "metadata": {},
   "outputs": [
    {
     "data": {
      "text/plain": [
       "1817"
      ]
     },
     "execution_count": 9,
     "metadata": {},
     "output_type": "execute_result"
    }
   ],
   "source": [
    "icd_phecodes['phecode'].nunique()"
   ]
  },
  {
   "cell_type": "markdown",
   "id": "97724562",
   "metadata": {},
   "source": [
    "How many unique ICD9 codes are there?"
   ]
  },
  {
   "cell_type": "code",
   "execution_count": 10,
   "id": "31d70a24",
   "metadata": {},
   "outputs": [
    {
     "data": {
      "text/plain": [
       "13707"
      ]
     },
     "execution_count": 10,
     "metadata": {},
     "output_type": "execute_result"
    }
   ],
   "source": [
    "icd_phecodes['icd9'].nunique()"
   ]
  },
  {
   "cell_type": "markdown",
   "id": "e60f11d9",
   "metadata": {},
   "source": [
    "Count how many unique ICD9 codes each one of the Phecode has. "
   ]
  },
  {
   "cell_type": "code",
   "execution_count": 11,
   "id": "85a98456",
   "metadata": {},
   "outputs": [
    {
     "data": {
      "text/html": [
       "<div>\n",
       "<style scoped>\n",
       "    .dataframe tbody tr th:only-of-type {\n",
       "        vertical-align: middle;\n",
       "    }\n",
       "\n",
       "    .dataframe tbody tr th {\n",
       "        vertical-align: top;\n",
       "    }\n",
       "\n",
       "    .dataframe thead th {\n",
       "        text-align: right;\n",
       "    }\n",
       "</style>\n",
       "<table border=\"1\" class=\"dataframe\">\n",
       "  <thead>\n",
       "    <tr style=\"text-align: right;\">\n",
       "      <th></th>\n",
       "      <th>phecode</th>\n",
       "      <th>icd9_count</th>\n",
       "    </tr>\n",
       "  </thead>\n",
       "  <tbody>\n",
       "    <tr>\n",
       "      <th>1812</th>\n",
       "      <td>202.2</td>\n",
       "      <td>152</td>\n",
       "    </tr>\n",
       "    <tr>\n",
       "      <th>1813</th>\n",
       "      <td>830</td>\n",
       "      <td>159</td>\n",
       "    </tr>\n",
       "    <tr>\n",
       "      <th>1814</th>\n",
       "      <td>202</td>\n",
       "      <td>186</td>\n",
       "    </tr>\n",
       "    <tr>\n",
       "      <th>1815</th>\n",
       "      <td>819</td>\n",
       "      <td>417</td>\n",
       "    </tr>\n",
       "    <tr>\n",
       "      <th>1816</th>\n",
       "      <td>010</td>\n",
       "      <td>496</td>\n",
       "    </tr>\n",
       "  </tbody>\n",
       "</table>\n",
       "</div>"
      ],
      "text/plain": [
       "     phecode  icd9_count\n",
       "1812   202.2         152\n",
       "1813     830         159\n",
       "1814     202         186\n",
       "1815     819         417\n",
       "1816     010         496"
      ]
     },
     "execution_count": 11,
     "metadata": {},
     "output_type": "execute_result"
    }
   ],
   "source": [
    "phecode_counts = icd_phecodes.groupby(\"phecode\")['icd9'].count().sort_values().reset_index().rename(columns={\n",
    "    'icd9':'icd9_count'\n",
    "})\n",
    "phecode_counts.tail()"
   ]
  },
  {
   "cell_type": "markdown",
   "id": "0c024f56",
   "metadata": {},
   "source": [
    "Here we make a histogram of the 'ICD9_counts per phecode' distribution of the previous dataframe."
   ]
  },
  {
   "cell_type": "code",
   "execution_count": 12,
   "id": "cf880a76",
   "metadata": {
    "scrolled": false
   },
   "outputs": [
    {
     "data": {
      "image/png": "[encoded data removed]",
      "text/plain": [
       "<Figure size 1080x504 with 2 Axes>"
      ]
     },
     "metadata": {
      "needs_background": "light"
     },
     "output_type": "display_data"
    }
   ],
   "source": [
    "f, (ax, ax2) = plt.subplots(2, 1, sharex=True, figsize=(15,7))\n",
    "ax.hist(phecode_counts.icd9_count, bins=150, edgecolor='black')\n",
    "ax2.hist(phecode_counts.icd9_count, bins=150, edgecolor='black')\n",
    "\n",
    "ax.set_ylim(35, 900) \n",
    "ax2.set_ylim(0, 25)\n",
    "\n",
    "ax.spines['bottom'].set_visible(False)\n",
    "ax2.spines['top'].set_visible(False)\n",
    "ax.xaxis.tick_top()\n",
    "ax.tick_params(labeltop=False)  # don't put tick labels at the top\n",
    "ax2.xaxis.tick_bottom()\n",
    "plt.xlabel(\"ICD9_counts per phecode\")\n",
    "plt.ylabel(\"Frequency\")\n",
    "f.suptitle(\"PLOT 1: Distribution of ICD9_counts per phecode\", size=20)\n",
    "plt.show()"
   ]
  },
  {
   "cell_type": "markdown",
   "id": "5536a4cb",
   "metadata": {},
   "source": [
    "## phecode-phenotype file <a class=\"anchor\" id=\"third-bullet\"></a>"
   ]
  },
  {
   "cell_type": "markdown",
   "id": "c7c5ce9c",
   "metadata": {},
   "source": [
    "Path to the file from PheWAS Catalog which has information on each phenotype definition:"
   ]
  },
  {
   "cell_type": "code",
   "execution_count": 13,
   "id": "f724d87e",
   "metadata": {},
   "outputs": [],
   "source": [
    "phecode_def_path = \"./phecode_definitions1.2.csv\" # https://phewascatalog.org/files/phecode_definitions1.2.csv.zip"
   ]
  },
  {
   "cell_type": "code",
   "execution_count": 14,
   "id": "05171e61",
   "metadata": {},
   "outputs": [],
   "source": [
    "phecode_def = pd.read_csv(phecode_def_path, sep=\",\", header=0, dtype=str)\n",
    "phecode_def.phecode = phecode_def.phecode.astype('object')"
   ]
  },
  {
   "cell_type": "markdown",
   "id": "13354622",
   "metadata": {},
   "source": [
    "We do some exploratory analysis on the data's format."
   ]
  },
  {
   "cell_type": "code",
   "execution_count": 15,
   "id": "0b76ea0f",
   "metadata": {},
   "outputs": [
    {
     "data": {
      "text/html": [
       "<div>\n",
       "<style scoped>\n",
       "    .dataframe tbody tr th:only-of-type {\n",
       "        vertical-align: middle;\n",
       "    }\n",
       "\n",
       "    .dataframe tbody tr th {\n",
       "        vertical-align: top;\n",
       "    }\n",
       "\n",
       "    .dataframe thead th {\n",
       "        text-align: right;\n",
       "    }\n",
       "</style>\n",
       "<table border=\"1\" class=\"dataframe\">\n",
       "  <thead>\n",
       "    <tr style=\"text-align: right;\">\n",
       "      <th></th>\n",
       "      <th>phecode</th>\n",
       "      <th>phenotype</th>\n",
       "      <th>phecode_exclude_range</th>\n",
       "      <th>sex</th>\n",
       "      <th>rollup</th>\n",
       "      <th>leaf</th>\n",
       "      <th>category_number</th>\n",
       "      <th>category</th>\n",
       "    </tr>\n",
       "  </thead>\n",
       "  <tbody>\n",
       "    <tr>\n",
       "      <th>0</th>\n",
       "      <td>008</td>\n",
       "      <td>Intestinal infection</td>\n",
       "      <td>001-009.99</td>\n",
       "      <td>NaN</td>\n",
       "      <td>1</td>\n",
       "      <td>0</td>\n",
       "      <td>1</td>\n",
       "      <td>infectious diseases</td>\n",
       "    </tr>\n",
       "    <tr>\n",
       "      <th>1</th>\n",
       "      <td>008.5</td>\n",
       "      <td>Bacterial enteritis</td>\n",
       "      <td>001-009.99</td>\n",
       "      <td>Both</td>\n",
       "      <td>1</td>\n",
       "      <td>0</td>\n",
       "      <td>1</td>\n",
       "      <td>infectious diseases</td>\n",
       "    </tr>\n",
       "    <tr>\n",
       "      <th>2</th>\n",
       "      <td>008.51</td>\n",
       "      <td>Intestinal e.coli</td>\n",
       "      <td>001-009.99</td>\n",
       "      <td>Both</td>\n",
       "      <td>1</td>\n",
       "      <td>1</td>\n",
       "      <td>1</td>\n",
       "      <td>infectious diseases</td>\n",
       "    </tr>\n",
       "    <tr>\n",
       "      <th>3</th>\n",
       "      <td>008.52</td>\n",
       "      <td>Intestinal infection due to C. difficile</td>\n",
       "      <td>001-009.99</td>\n",
       "      <td>Both</td>\n",
       "      <td>1</td>\n",
       "      <td>1</td>\n",
       "      <td>1</td>\n",
       "      <td>infectious diseases</td>\n",
       "    </tr>\n",
       "    <tr>\n",
       "      <th>4</th>\n",
       "      <td>008.6</td>\n",
       "      <td>Viral Enteritis</td>\n",
       "      <td>001-009.99</td>\n",
       "      <td>Both</td>\n",
       "      <td>1</td>\n",
       "      <td>1</td>\n",
       "      <td>1</td>\n",
       "      <td>infectious diseases</td>\n",
       "    </tr>\n",
       "  </tbody>\n",
       "</table>\n",
       "</div>"
      ],
      "text/plain": [
       "  phecode                                 phenotype phecode_exclude_range  \\\n",
       "0     008                      Intestinal infection            001-009.99   \n",
       "1   008.5                       Bacterial enteritis            001-009.99   \n",
       "2  008.51                         Intestinal e.coli            001-009.99   \n",
       "3  008.52  Intestinal infection due to C. difficile            001-009.99   \n",
       "4   008.6                           Viral Enteritis            001-009.99   \n",
       "\n",
       "    sex rollup leaf category_number             category  \n",
       "0   NaN      1    0               1  infectious diseases  \n",
       "1  Both      1    0               1  infectious diseases  \n",
       "2  Both      1    1               1  infectious diseases  \n",
       "3  Both      1    1               1  infectious diseases  \n",
       "4  Both      1    1               1  infectious diseases  "
      ]
     },
     "execution_count": 15,
     "metadata": {},
     "output_type": "execute_result"
    }
   ],
   "source": [
    "phecode_def.head()"
   ]
  },
  {
   "cell_type": "code",
   "execution_count": 16,
   "id": "efa6a4be",
   "metadata": {},
   "outputs": [
    {
     "name": "stdout",
     "output_type": "stream",
     "text": [
      "<class 'pandas.core.frame.DataFrame'>\n",
      "RangeIndex: 1866 entries, 0 to 1865\n",
      "Data columns (total 8 columns):\n",
      " #   Column                 Non-Null Count  Dtype \n",
      "---  ------                 --------------  ----- \n",
      " 0   phecode                1866 non-null   object\n",
      " 1   phenotype              1866 non-null   object\n",
      " 2   phecode_exclude_range  1848 non-null   object\n",
      " 3   sex                    1468 non-null   object\n",
      " 4   rollup                 1866 non-null   object\n",
      " 5   leaf                   1866 non-null   object\n",
      " 6   category_number        1866 non-null   object\n",
      " 7   category               1848 non-null   object\n",
      "dtypes: object(8)\n",
      "memory usage: 116.8+ KB\n"
     ]
    }
   ],
   "source": [
    "phecode_def.info()"
   ]
  },
  {
   "cell_type": "markdown",
   "id": "ecaf41d1",
   "metadata": {},
   "source": [
    "From the previous dataframe we only store the first two columns."
   ]
  },
  {
   "cell_type": "code",
   "execution_count": 17,
   "id": "32a5a71a",
   "metadata": {},
   "outputs": [],
   "source": [
    "phecode_def = phecode_def.iloc[:,[0,1]]"
   ]
  },
  {
   "cell_type": "markdown",
   "id": "1e83ecd0",
   "metadata": {},
   "source": [
    "On the next two chunks of code we check that there are no null/NaN values in the data."
   ]
  },
  {
   "cell_type": "code",
   "execution_count": 18,
   "id": "f9a4fdd2",
   "metadata": {},
   "outputs": [
    {
     "data": {
      "text/plain": [
       "phecode      0\n",
       "phenotype    0\n",
       "dtype: int64"
      ]
     },
     "execution_count": 18,
     "metadata": {},
     "output_type": "execute_result"
    }
   ],
   "source": [
    "phecode_def.isna().sum()"
   ]
  },
  {
   "cell_type": "code",
   "execution_count": 19,
   "id": "fbfde259",
   "metadata": {},
   "outputs": [
    {
     "data": {
      "text/html": [
       "<div>\n",
       "<style scoped>\n",
       "    .dataframe tbody tr th:only-of-type {\n",
       "        vertical-align: middle;\n",
       "    }\n",
       "\n",
       "    .dataframe tbody tr th {\n",
       "        vertical-align: top;\n",
       "    }\n",
       "\n",
       "    .dataframe thead th {\n",
       "        text-align: right;\n",
       "    }\n",
       "</style>\n",
       "<table border=\"1\" class=\"dataframe\">\n",
       "  <thead>\n",
       "    <tr style=\"text-align: right;\">\n",
       "      <th></th>\n",
       "      <th>phecode</th>\n",
       "      <th>phenotype</th>\n",
       "    </tr>\n",
       "  </thead>\n",
       "  <tbody>\n",
       "  </tbody>\n",
       "</table>\n",
       "</div>"
      ],
      "text/plain": [
       "Empty DataFrame\n",
       "Columns: [phecode, phenotype]\n",
       "Index: []"
      ]
     },
     "execution_count": 19,
     "metadata": {},
     "output_type": "execute_result"
    }
   ],
   "source": [
    "phecode_def[phecode_def['phenotype'] == '']"
   ]
  },
  {
   "cell_type": "markdown",
   "id": "12076307",
   "metadata": {},
   "source": [
    "Now we merge the two previous dataframes to obtain all the phecodes-phenotype-icd relationships."
   ]
  },
  {
   "cell_type": "code",
   "execution_count": 20,
   "id": "7c972d8a",
   "metadata": {},
   "outputs": [
    {
     "data": {
      "text/html": [
       "<div>\n",
       "<style scoped>\n",
       "    .dataframe tbody tr th:only-of-type {\n",
       "        vertical-align: middle;\n",
       "    }\n",
       "\n",
       "    .dataframe tbody tr th {\n",
       "        vertical-align: top;\n",
       "    }\n",
       "\n",
       "    .dataframe thead th {\n",
       "        text-align: right;\n",
       "    }\n",
       "</style>\n",
       "<table border=\"1\" class=\"dataframe\">\n",
       "  <thead>\n",
       "    <tr style=\"text-align: right;\">\n",
       "      <th></th>\n",
       "      <th>phecode</th>\n",
       "      <th>phenotype</th>\n",
       "      <th>icd9</th>\n",
       "    </tr>\n",
       "  </thead>\n",
       "  <tbody>\n",
       "    <tr>\n",
       "      <th>0</th>\n",
       "      <td>008</td>\n",
       "      <td>Intestinal infection</td>\n",
       "      <td>001</td>\n",
       "    </tr>\n",
       "    <tr>\n",
       "      <th>1</th>\n",
       "      <td>008</td>\n",
       "      <td>Intestinal infection</td>\n",
       "      <td>001.0</td>\n",
       "    </tr>\n",
       "    <tr>\n",
       "      <th>2</th>\n",
       "      <td>008</td>\n",
       "      <td>Intestinal infection</td>\n",
       "      <td>001.1</td>\n",
       "    </tr>\n",
       "    <tr>\n",
       "      <th>3</th>\n",
       "      <td>008</td>\n",
       "      <td>Intestinal infection</td>\n",
       "      <td>001.9</td>\n",
       "    </tr>\n",
       "    <tr>\n",
       "      <th>4</th>\n",
       "      <td>008</td>\n",
       "      <td>Intestinal infection</td>\n",
       "      <td>002</td>\n",
       "    </tr>\n",
       "  </tbody>\n",
       "</table>\n",
       "</div>"
      ],
      "text/plain": [
       "  phecode             phenotype   icd9\n",
       "0     008  Intestinal infection    001\n",
       "1     008  Intestinal infection  001.0\n",
       "2     008  Intestinal infection  001.1\n",
       "3     008  Intestinal infection  001.9\n",
       "4     008  Intestinal infection    002"
      ]
     },
     "execution_count": 20,
     "metadata": {},
     "output_type": "execute_result"
    }
   ],
   "source": [
    "phecode_pheno_icd = pd.merge(phecode_def, icd_phecodes, on='phecode', how='inner')\n",
    "phecode_pheno_icd.head()"
   ]
  },
  {
   "cell_type": "markdown",
   "id": "be34901c",
   "metadata": {},
   "source": [
    "Write this df as an output tsv file."
   ]
  },
  {
   "cell_type": "code",
   "execution_count": 21,
   "id": "6c5d0e41",
   "metadata": {},
   "outputs": [],
   "source": [
    "output_path = '~/disgenet-curated/icd_phecode_table.tsv'"
   ]
  },
  {
   "cell_type": "code",
   "execution_count": 22,
   "id": "23d77452",
   "metadata": {},
   "outputs": [],
   "source": [
    "phecode_pheno_icd.to_csv(output_path, sep='\\t', header=True, index=False)"
   ]
  },
  {
   "cell_type": "code",
   "execution_count": 23,
   "id": "4316b68e",
   "metadata": {},
   "outputs": [
    {
     "data": {
      "text/plain": [
       "1817"
      ]
     },
     "execution_count": 23,
     "metadata": {},
     "output_type": "execute_result"
    }
   ],
   "source": [
    "phecode_pheno_icd.phenotype.nunique()"
   ]
  },
  {
   "cell_type": "code",
   "execution_count": 24,
   "id": "a8a1adea",
   "metadata": {},
   "outputs": [
    {
     "data": {
      "text/html": [
       "<div>\n",
       "<style scoped>\n",
       "    .dataframe tbody tr th:only-of-type {\n",
       "        vertical-align: middle;\n",
       "    }\n",
       "\n",
       "    .dataframe tbody tr th {\n",
       "        vertical-align: top;\n",
       "    }\n",
       "\n",
       "    .dataframe thead th {\n",
       "        text-align: right;\n",
       "    }\n",
       "</style>\n",
       "<table border=\"1\" class=\"dataframe\">\n",
       "  <thead>\n",
       "    <tr style=\"text-align: right;\">\n",
       "      <th></th>\n",
       "      <th>phecode</th>\n",
       "      <th>phenotype</th>\n",
       "      <th>counts</th>\n",
       "    </tr>\n",
       "  </thead>\n",
       "  <tbody>\n",
       "    <tr>\n",
       "      <th>0</th>\n",
       "      <td>994.21</td>\n",
       "      <td>Septic shock</td>\n",
       "      <td>1</td>\n",
       "    </tr>\n",
       "    <tr>\n",
       "      <th>1</th>\n",
       "      <td>350.5</td>\n",
       "      <td>Abnormal reflex</td>\n",
       "      <td>1</td>\n",
       "    </tr>\n",
       "    <tr>\n",
       "      <th>2</th>\n",
       "      <td>350.6</td>\n",
       "      <td>Disturbances of sensation of smell and taste</td>\n",
       "      <td>1</td>\n",
       "    </tr>\n",
       "    <tr>\n",
       "      <th>3</th>\n",
       "      <td>701.4</td>\n",
       "      <td>Keloid scar</td>\n",
       "      <td>1</td>\n",
       "    </tr>\n",
       "    <tr>\n",
       "      <th>4</th>\n",
       "      <td>701.3</td>\n",
       "      <td>Circumscribed scleroderma</td>\n",
       "      <td>1</td>\n",
       "    </tr>\n",
       "  </tbody>\n",
       "</table>\n",
       "</div>"
      ],
      "text/plain": [
       "  phecode                                     phenotype  counts\n",
       "0  994.21                                  Septic shock       1\n",
       "1   350.5                               Abnormal reflex       1\n",
       "2   350.6  Disturbances of sensation of smell and taste       1\n",
       "3   701.4                                   Keloid scar       1\n",
       "4   701.3                     Circumscribed scleroderma       1"
      ]
     },
     "execution_count": 24,
     "metadata": {},
     "output_type": "execute_result"
    }
   ],
   "source": [
    "phenotype_counts = phecode_pheno_icd.groupby(['phecode','phenotype']).size().sort_values().reset_index(name='counts')\n",
    "phenotype_counts.phecode = phenotype_counts.phecode.astype('object')\n",
    "phenotype_counts.head()"
   ]
  },
  {
   "cell_type": "code",
   "execution_count": 25,
   "id": "524de2d9",
   "metadata": {},
   "outputs": [],
   "source": [
    "first_df = phenotype_counts.iloc[:round(len(phenotype_counts.index)/4), :]\n",
    "second_df = phenotype_counts.iloc[round(len(phenotype_counts.index)/4):round(len(phenotype_counts.index)/4)*2, :]\n",
    "third_df = phenotype_counts.iloc[round(len(phenotype_counts.index)/4)*2:round(len(phenotype_counts.index)/4)*3, :]\n",
    "fourth_df = phenotype_counts.iloc[round(len(phenotype_counts.index)/4)*3:, :]"
   ]
  },
  {
   "cell_type": "code",
   "execution_count": 26,
   "id": "79b0a98c",
   "metadata": {},
   "outputs": [
    {
     "data": {
      "text/html": [
       "<div>\n",
       "<style scoped>\n",
       "    .dataframe tbody tr th:only-of-type {\n",
       "        vertical-align: middle;\n",
       "    }\n",
       "\n",
       "    .dataframe tbody tr th {\n",
       "        vertical-align: top;\n",
       "    }\n",
       "\n",
       "    .dataframe thead th {\n",
       "        text-align: right;\n",
       "    }\n",
       "</style>\n",
       "<table border=\"1\" class=\"dataframe\">\n",
       "  <thead>\n",
       "    <tr style=\"text-align: right;\">\n",
       "      <th></th>\n",
       "      <th>phecode</th>\n",
       "      <th>phenotype</th>\n",
       "      <th>counts</th>\n",
       "    </tr>\n",
       "  </thead>\n",
       "  <tbody>\n",
       "    <tr>\n",
       "      <th>1362</th>\n",
       "      <td>288.1</td>\n",
       "      <td>Decreased white blood cell count</td>\n",
       "      <td>11</td>\n",
       "    </tr>\n",
       "    <tr>\n",
       "      <th>1363</th>\n",
       "      <td>224</td>\n",
       "      <td>Benign neoplasm of eye</td>\n",
       "      <td>11</td>\n",
       "    </tr>\n",
       "    <tr>\n",
       "      <th>1364</th>\n",
       "      <td>433.2</td>\n",
       "      <td>Occlusion of cerebral arteries</td>\n",
       "      <td>11</td>\n",
       "    </tr>\n",
       "    <tr>\n",
       "      <th>1365</th>\n",
       "      <td>752.11</td>\n",
       "      <td>Spina bifida</td>\n",
       "      <td>11</td>\n",
       "    </tr>\n",
       "    <tr>\n",
       "      <th>1366</th>\n",
       "      <td>530.1</td>\n",
       "      <td>Esophagitis, GERD and related diseases</td>\n",
       "      <td>11</td>\n",
       "    </tr>\n",
       "    <tr>\n",
       "      <th>...</th>\n",
       "      <td>...</td>\n",
       "      <td>...</td>\n",
       "      <td>...</td>\n",
       "    </tr>\n",
       "    <tr>\n",
       "      <th>1812</th>\n",
       "      <td>202.2</td>\n",
       "      <td>Non-Hodgkins lymphoma</td>\n",
       "      <td>152</td>\n",
       "    </tr>\n",
       "    <tr>\n",
       "      <th>1813</th>\n",
       "      <td>830</td>\n",
       "      <td>Dislocation</td>\n",
       "      <td>159</td>\n",
       "    </tr>\n",
       "    <tr>\n",
       "      <th>1814</th>\n",
       "      <td>202</td>\n",
       "      <td>Cancer of other lymphoid, histiocytic tissue</td>\n",
       "      <td>186</td>\n",
       "    </tr>\n",
       "    <tr>\n",
       "      <th>1815</th>\n",
       "      <td>819</td>\n",
       "      <td>Skull and face fracture and other intercranial...</td>\n",
       "      <td>417</td>\n",
       "    </tr>\n",
       "    <tr>\n",
       "      <th>1816</th>\n",
       "      <td>010</td>\n",
       "      <td>Tuberculosis</td>\n",
       "      <td>496</td>\n",
       "    </tr>\n",
       "  </tbody>\n",
       "</table>\n",
       "<p>455 rows × 3 columns</p>\n",
       "</div>"
      ],
      "text/plain": [
       "     phecode                                          phenotype  counts\n",
       "1362   288.1                   Decreased white blood cell count      11\n",
       "1363     224                             Benign neoplasm of eye      11\n",
       "1364   433.2                     Occlusion of cerebral arteries      11\n",
       "1365  752.11                                       Spina bifida      11\n",
       "1366   530.1             Esophagitis, GERD and related diseases      11\n",
       "...      ...                                                ...     ...\n",
       "1812   202.2                              Non-Hodgkins lymphoma     152\n",
       "1813     830                                        Dislocation     159\n",
       "1814     202       Cancer of other lymphoid, histiocytic tissue     186\n",
       "1815     819  Skull and face fracture and other intercranial...     417\n",
       "1816     010                                       Tuberculosis     496\n",
       "\n",
       "[455 rows x 3 columns]"
      ]
     },
     "execution_count": 26,
     "metadata": {},
     "output_type": "execute_result"
    }
   ],
   "source": [
    "fourth_df"
   ]
  },
  {
   "cell_type": "markdown",
   "id": "f2d712c3",
   "metadata": {},
   "source": [
    "Now we create a barplot of the fourth split of the original dataframe, which starts with counts == 11. We do not plot all the data because it is impossible for seaborn to plot all the 1817 records in the same image."
   ]
  },
  {
   "cell_type": "code",
   "execution_count": 27,
   "id": "c042ea97",
   "metadata": {},
   "outputs": [
    {
     "data": {
      "image/png": "[encoded data removed]",
      "text/plain": [
       "<Figure size 1440x720 with 1 Axes>"
      ]
     },
     "metadata": {},
     "output_type": "display_data"
    }
   ],
   "source": [
    "sns.set(rc={'figure.figsize':(20,10)})\n",
    "sns.set_theme(style=\"whitegrid\")\n",
    "\n",
    "g = sns.barplot(x = 'phecode', y = 'counts', data=fourth_df, color = 'cornflowerblue', order = fourth_df.sort_values('counts').phecode)\n",
    "plt.gca().axes.xaxis.set_ticklabels([])\n",
    "plt.xlabel(\"Phecodes\")\n",
    "plt.ylabel(\"Absolute frequency\")\n",
    "plt.title(\"PLOT 2: Counts for each phecode-phenotype group\\nof the fourth dataframe\", size=20)\n",
    "plt.show()"
   ]
  },
  {
   "cell_type": "markdown",
   "id": "7fb136d1",
   "metadata": {},
   "source": [
    "Here we print a table of the records whose counts are equal or greater than 100."
   ]
  },
  {
   "cell_type": "code",
   "execution_count": 28,
   "id": "d6d61e7e",
   "metadata": {},
   "outputs": [
    {
     "data": {
      "text/html": [
       "<div>\n",
       "<style scoped>\n",
       "    .dataframe tbody tr th:only-of-type {\n",
       "        vertical-align: middle;\n",
       "    }\n",
       "\n",
       "    .dataframe tbody tr th {\n",
       "        vertical-align: top;\n",
       "    }\n",
       "\n",
       "    .dataframe thead th {\n",
       "        text-align: right;\n",
       "    }\n",
       "</style>\n",
       "<table border=\"1\" class=\"dataframe\">\n",
       "  <thead>\n",
       "    <tr style=\"text-align: right;\">\n",
       "      <th></th>\n",
       "      <th>phecode</th>\n",
       "      <th>phenotype</th>\n",
       "      <th>counts</th>\n",
       "    </tr>\n",
       "  </thead>\n",
       "  <tbody>\n",
       "    <tr>\n",
       "      <th>0</th>\n",
       "      <td>656</td>\n",
       "      <td>Other perinatal conditions of fetus or newborn</td>\n",
       "      <td>107</td>\n",
       "    </tr>\n",
       "    <tr>\n",
       "      <th>1</th>\n",
       "      <td>531</td>\n",
       "      <td>Peptic ulcer (excl. esophageal)</td>\n",
       "      <td>113</td>\n",
       "    </tr>\n",
       "    <tr>\n",
       "      <th>2</th>\n",
       "      <td>316</td>\n",
       "      <td>Substance addiction and disorders</td>\n",
       "      <td>116</td>\n",
       "    </tr>\n",
       "    <tr>\n",
       "      <th>3</th>\n",
       "      <td>711</td>\n",
       "      <td>Arthropathy associated with infections</td>\n",
       "      <td>118</td>\n",
       "    </tr>\n",
       "    <tr>\n",
       "      <th>4</th>\n",
       "      <td>041</td>\n",
       "      <td>Bacterial infection NOS</td>\n",
       "      <td>122</td>\n",
       "    </tr>\n",
       "    <tr>\n",
       "      <th>5</th>\n",
       "      <td>803</td>\n",
       "      <td>Fracture of upper limb</td>\n",
       "      <td>123</td>\n",
       "    </tr>\n",
       "    <tr>\n",
       "      <th>6</th>\n",
       "      <td>079</td>\n",
       "      <td>Viral infection</td>\n",
       "      <td>125</td>\n",
       "    </tr>\n",
       "    <tr>\n",
       "      <th>7</th>\n",
       "      <td>870</td>\n",
       "      <td>Open wounds of head; neck; and trunk</td>\n",
       "      <td>129</td>\n",
       "    </tr>\n",
       "    <tr>\n",
       "      <th>8</th>\n",
       "      <td>204</td>\n",
       "      <td>Leukemia</td>\n",
       "      <td>134</td>\n",
       "    </tr>\n",
       "    <tr>\n",
       "      <th>9</th>\n",
       "      <td>090</td>\n",
       "      <td>Sexually transmitted infections (not HIV or he...</td>\n",
       "      <td>147</td>\n",
       "    </tr>\n",
       "    <tr>\n",
       "      <th>10</th>\n",
       "      <td>202.2</td>\n",
       "      <td>Non-Hodgkins lymphoma</td>\n",
       "      <td>152</td>\n",
       "    </tr>\n",
       "    <tr>\n",
       "      <th>11</th>\n",
       "      <td>830</td>\n",
       "      <td>Dislocation</td>\n",
       "      <td>159</td>\n",
       "    </tr>\n",
       "    <tr>\n",
       "      <th>12</th>\n",
       "      <td>202</td>\n",
       "      <td>Cancer of other lymphoid, histiocytic tissue</td>\n",
       "      <td>186</td>\n",
       "    </tr>\n",
       "    <tr>\n",
       "      <th>13</th>\n",
       "      <td>819</td>\n",
       "      <td>Skull and face fracture and other intercranial...</td>\n",
       "      <td>417</td>\n",
       "    </tr>\n",
       "    <tr>\n",
       "      <th>14</th>\n",
       "      <td>010</td>\n",
       "      <td>Tuberculosis</td>\n",
       "      <td>496</td>\n",
       "    </tr>\n",
       "  </tbody>\n",
       "</table>\n",
       "</div>"
      ],
      "text/plain": [
       "   phecode                                          phenotype  counts\n",
       "0      656     Other perinatal conditions of fetus or newborn     107\n",
       "1      531                    Peptic ulcer (excl. esophageal)     113\n",
       "2      316                  Substance addiction and disorders     116\n",
       "3      711             Arthropathy associated with infections     118\n",
       "4      041                            Bacterial infection NOS     122\n",
       "5      803                             Fracture of upper limb     123\n",
       "6      079                                    Viral infection     125\n",
       "7      870               Open wounds of head; neck; and trunk     129\n",
       "8      204                                           Leukemia     134\n",
       "9      090  Sexually transmitted infections (not HIV or he...     147\n",
       "10   202.2                              Non-Hodgkins lymphoma     152\n",
       "11     830                                        Dislocation     159\n",
       "12     202       Cancer of other lymphoid, histiocytic tissue     186\n",
       "13     819  Skull and face fracture and other intercranial...     417\n",
       "14     010                                       Tuberculosis     496"
      ]
     },
     "execution_count": 28,
     "metadata": {},
     "output_type": "execute_result"
    }
   ],
   "source": [
    "phenotype_counts[phenotype_counts.counts >= 100].reset_index(drop=True)"
   ]
  },
  {
   "cell_type": "markdown",
   "id": "913281ec",
   "metadata": {},
   "source": [
    "Now we create a new Dataframe in which we will store information on how many Phecodes are inside each Counts category. Therefore we obviously expect low numbers to gather a greater amount of Phecodes than larger numbers, which will have lower counts.\n",
    "\n",
    "After that, we create a plot from this data."
   ]
  },
  {
   "cell_type": "code",
   "execution_count": 29,
   "id": "c384ee05",
   "metadata": {},
   "outputs": [
    {
     "data": {
      "text/html": [
       "<div>\n",
       "<style scoped>\n",
       "    .dataframe tbody tr th:only-of-type {\n",
       "        vertical-align: middle;\n",
       "    }\n",
       "\n",
       "    .dataframe tbody tr th {\n",
       "        vertical-align: top;\n",
       "    }\n",
       "\n",
       "    .dataframe thead th {\n",
       "        text-align: right;\n",
       "    }\n",
       "</style>\n",
       "<table border=\"1\" class=\"dataframe\">\n",
       "  <thead>\n",
       "    <tr style=\"text-align: right;\">\n",
       "      <th></th>\n",
       "      <th>count</th>\n",
       "      <th>phecode_count</th>\n",
       "    </tr>\n",
       "  </thead>\n",
       "  <tbody>\n",
       "    <tr>\n",
       "      <th>0</th>\n",
       "      <td>1</td>\n",
       "      <td>477</td>\n",
       "    </tr>\n",
       "    <tr>\n",
       "      <th>1</th>\n",
       "      <td>2</td>\n",
       "      <td>160</td>\n",
       "    </tr>\n",
       "    <tr>\n",
       "      <th>2</th>\n",
       "      <td>3</td>\n",
       "      <td>123</td>\n",
       "    </tr>\n",
       "    <tr>\n",
       "      <th>3</th>\n",
       "      <td>4</td>\n",
       "      <td>113</td>\n",
       "    </tr>\n",
       "    <tr>\n",
       "      <th>4</th>\n",
       "      <td>5</td>\n",
       "      <td>100</td>\n",
       "    </tr>\n",
       "    <tr>\n",
       "      <th>...</th>\n",
       "      <td>...</td>\n",
       "      <td>...</td>\n",
       "    </tr>\n",
       "    <tr>\n",
       "      <th>93</th>\n",
       "      <td>152</td>\n",
       "      <td>1</td>\n",
       "    </tr>\n",
       "    <tr>\n",
       "      <th>94</th>\n",
       "      <td>159</td>\n",
       "      <td>1</td>\n",
       "    </tr>\n",
       "    <tr>\n",
       "      <th>95</th>\n",
       "      <td>186</td>\n",
       "      <td>1</td>\n",
       "    </tr>\n",
       "    <tr>\n",
       "      <th>96</th>\n",
       "      <td>417</td>\n",
       "      <td>1</td>\n",
       "    </tr>\n",
       "    <tr>\n",
       "      <th>97</th>\n",
       "      <td>496</td>\n",
       "      <td>1</td>\n",
       "    </tr>\n",
       "  </tbody>\n",
       "</table>\n",
       "<p>98 rows × 2 columns</p>\n",
       "</div>"
      ],
      "text/plain": [
       "    count  phecode_count\n",
       "0       1            477\n",
       "1       2            160\n",
       "2       3            123\n",
       "3       4            113\n",
       "4       5            100\n",
       "..    ...            ...\n",
       "93    152              1\n",
       "94    159              1\n",
       "95    186              1\n",
       "96    417              1\n",
       "97    496              1\n",
       "\n",
       "[98 rows x 2 columns]"
      ]
     },
     "execution_count": 29,
     "metadata": {},
     "output_type": "execute_result"
    }
   ],
   "source": [
    "df = pd.DataFrame(phenotype_counts.groupby('counts')['phecode'].count().reset_index())\n",
    "df.columns = ['count', 'phecode_count']\n",
    "df"
   ]
  },
  {
   "cell_type": "code",
   "execution_count": 30,
   "id": "06da1cca",
   "metadata": {},
   "outputs": [
    {
     "data": {
      "image/png": "[encoded data removed]",
      "text/plain": [
       "<Figure size 1440x720 with 2 Axes>"
      ]
     },
     "metadata": {},
     "output_type": "display_data"
    }
   ],
   "source": [
    "sns.set(rc={'figure.figsize':(20,10)})\n",
    "sns.set_theme(style=\"whitegrid\")\n",
    "\n",
    "# Create layout\n",
    "f, (ax2, ax1) = plt.subplots(ncols=1, nrows=2, sharex=True, gridspec_kw={'height_ratios':[1/2, 10]})\n",
    "f.tight_layout(pad=0.5) # change spacing between subplots\n",
    "\n",
    "# Create axis objects with data\n",
    "ax1 = sns.barplot(x = 'count', y = 'phecode_count', data=df, color = 'cornflowerblue', ax=ax1)\n",
    "ax2 = sns.barplot(x = 'count', y = 'phecode_count', data=df, color = 'cornflowerblue', ax=ax2)\n",
    "\n",
    "# Set axis properties\n",
    "ax1.set_ylim(0,160)\n",
    "ax2.set_ylim(475, 480)\n",
    "plt.xticks(rotation=90)\n",
    "ax1.set_ylabel(\"# of phecodes\", size=15)\n",
    "ax1.set_xlabel(\"N\", size=15)\n",
    "ax2.set_title(\"PLOT 3: # of phecodes per 'count'== N\", size=20)\n",
    "ax2.axes.get_xaxis().set_visible(False)\n",
    "ax2.axes.set_ylabel('')\n",
    "plt.show()"
   ]
  },
  {
   "cell_type": "markdown",
   "id": "f6842f5f",
   "metadata": {},
   "source": [
    "## PheWAS CATALOG DUMP FILE <a class=\"anchor\" id=\"fourth-bullet\"></a>"
   ]
  },
  {
   "cell_type": "markdown",
   "id": "e06a9d57",
   "metadata": {},
   "source": [
    "This is the file that can be downloaded from the upper right \"Download this tsv\" button on the webpage's \"GWAS Catalog tab\". From this file we just want the SNP and the Phecode columns."
   ]
  },
  {
   "cell_type": "code",
   "execution_count": 31,
   "id": "07d1fd1d",
   "metadata": {},
   "outputs": [],
   "source": [
    "phewas_catalog_path = '/home/ricard/Documents/phewas/phewas-catalog.csv'"
   ]
  },
  {
   "cell_type": "code",
   "execution_count": 32,
   "id": "d8768635",
   "metadata": {},
   "outputs": [
    {
     "name": "stderr",
     "output_type": "stream",
     "text": [
      "<ipython-input-32-fa096fce34be>:1: ParserWarning: Both a converter and dtype were specified for column cases - only the converter will be used\n",
      "  phewas_catalog = pd.read_csv(phewas_catalog_path, header=0, dtype=str, converters={'cases':int, 'p-value':float,\n",
      "<ipython-input-32-fa096fce34be>:1: ParserWarning: Both a converter and dtype were specified for column p-value - only the converter will be used\n",
      "  phewas_catalog = pd.read_csv(phewas_catalog_path, header=0, dtype=str, converters={'cases':int, 'p-value':float,\n",
      "<ipython-input-32-fa096fce34be>:1: ParserWarning: Both a converter and dtype were specified for column odds-ratio - only the converter will be used\n",
      "  phewas_catalog = pd.read_csv(phewas_catalog_path, header=0, dtype=str, converters={'cases':int, 'p-value':float,\n"
     ]
    },
    {
     "name": "stdout",
     "output_type": "stream",
     "text": [
      "<class 'pandas.core.frame.DataFrame'>\n",
      "RangeIndex: 215107 entries, 0 to 215106\n",
      "Data columns (total 9 columns):\n",
      " #   Column             Non-Null Count   Dtype  \n",
      "---  ------             --------------   -----  \n",
      " 0   chromosome         215107 non-null  object \n",
      " 1   snp                215107 non-null  object \n",
      " 2   phewas phenotype   215107 non-null  object \n",
      " 3   cases              215107 non-null  int64  \n",
      " 4   p-value            215107 non-null  float64\n",
      " 5   odds-ratio         215107 non-null  float64\n",
      " 6   gene_name          162967 non-null  object \n",
      " 7   phewas code        215107 non-null  object \n",
      " 8   gwas-associations  215107 non-null  object \n",
      "dtypes: float64(2), int64(1), object(6)\n",
      "memory usage: 14.8+ MB\n"
     ]
    }
   ],
   "source": [
    "phewas_catalog = pd.read_csv(phewas_catalog_path, header=0, dtype=str, converters={'cases':int, 'p-value':float,\n",
    "                                                                                  'odds-ratio':float})\n",
    "phewas_catalog.info()"
   ]
  },
  {
   "cell_type": "code",
   "execution_count": 33,
   "id": "665cb5b8",
   "metadata": {},
   "outputs": [],
   "source": [
    "phewas_catalog = phewas_catalog.iloc[:,[1,7]].rename(columns={'snp':'snp','phewas code':'phecode'}) \n",
    "# We just need this two columns"
   ]
  },
  {
   "cell_type": "code",
   "execution_count": 34,
   "id": "ec9da10d",
   "metadata": {},
   "outputs": [
    {
     "data": {
      "text/html": [
       "<div>\n",
       "<style scoped>\n",
       "    .dataframe tbody tr th:only-of-type {\n",
       "        vertical-align: middle;\n",
       "    }\n",
       "\n",
       "    .dataframe tbody tr th {\n",
       "        vertical-align: top;\n",
       "    }\n",
       "\n",
       "    .dataframe thead th {\n",
       "        text-align: right;\n",
       "    }\n",
       "</style>\n",
       "<table border=\"1\" class=\"dataframe\">\n",
       "  <thead>\n",
       "    <tr style=\"text-align: right;\">\n",
       "      <th></th>\n",
       "      <th>snp</th>\n",
       "      <th>phecode</th>\n",
       "    </tr>\n",
       "  </thead>\n",
       "  <tbody>\n",
       "    <tr>\n",
       "      <th>0</th>\n",
       "      <td>rs2075650</td>\n",
       "      <td>290.11</td>\n",
       "    </tr>\n",
       "    <tr>\n",
       "      <th>1</th>\n",
       "      <td>rs2075650</td>\n",
       "      <td>290.1</td>\n",
       "    </tr>\n",
       "    <tr>\n",
       "      <th>2</th>\n",
       "      <td>rs12203592</td>\n",
       "      <td>702.1</td>\n",
       "    </tr>\n",
       "    <tr>\n",
       "      <th>3</th>\n",
       "      <td>rs1800562</td>\n",
       "      <td>275.1</td>\n",
       "    </tr>\n",
       "    <tr>\n",
       "      <th>4</th>\n",
       "      <td>rs2075650</td>\n",
       "      <td>290</td>\n",
       "    </tr>\n",
       "  </tbody>\n",
       "</table>\n",
       "</div>"
      ],
      "text/plain": [
       "          snp phecode\n",
       "0   rs2075650  290.11\n",
       "1   rs2075650   290.1\n",
       "2  rs12203592   702.1\n",
       "3   rs1800562   275.1\n",
       "4   rs2075650     290"
      ]
     },
     "execution_count": 34,
     "metadata": {},
     "output_type": "execute_result"
    }
   ],
   "source": [
    "phewas_catalog.head()"
   ]
  },
  {
   "cell_type": "markdown",
   "id": "5d22ba33",
   "metadata": {},
   "source": [
    "Check for NaN values:"
   ]
  },
  {
   "cell_type": "code",
   "execution_count": 35,
   "id": "b8939258",
   "metadata": {},
   "outputs": [
    {
     "data": {
      "text/plain": [
       "snp        0\n",
       "phecode    0\n",
       "dtype: int64"
      ]
     },
     "execution_count": 35,
     "metadata": {},
     "output_type": "execute_result"
    }
   ],
   "source": [
    "phewas_catalog.isna().sum()"
   ]
  },
  {
   "cell_type": "code",
   "execution_count": 36,
   "id": "98c01ff7",
   "metadata": {},
   "outputs": [
    {
     "data": {
      "text/plain": [
       "3144"
      ]
     },
     "execution_count": 36,
     "metadata": {},
     "output_type": "execute_result"
    }
   ],
   "source": [
    "phewas_catalog.snp.nunique()"
   ]
  },
  {
   "cell_type": "markdown",
   "id": "4d7803b1",
   "metadata": {},
   "source": [
    "## DGN DISEASE INDEX DUMP FILE <a class=\"anchor\" id=\"fifth\"></a>"
   ]
  },
  {
   "cell_type": "markdown",
   "id": "fad88c8d",
   "metadata": {},
   "source": [
    "From the dump of the DGN disease v20 index we just want the column with CUI information."
   ]
  },
  {
   "cell_type": "code",
   "execution_count": 37,
   "id": "739cbe69",
   "metadata": {},
   "outputs": [],
   "source": [
    "diseases_v20_path = '/home/ricard/Documents/phewas/diseases_DISGENET_PLUS_v20.tsv'"
   ]
  },
  {
   "cell_type": "code",
   "execution_count": 38,
   "id": "ebd6c959",
   "metadata": {},
   "outputs": [
    {
     "name": "stdout",
     "output_type": "stream",
     "text": [
      "0    C4072842\n",
      "1    C1834120\n",
      "2    C1969675\n",
      "3    C0393485\n",
      "4    C4014864\n",
      "Name: CUI, dtype: object\n",
      "\n",
      "Shape: (34280,)\n"
     ]
    }
   ],
   "source": [
    "cuis_v20 = pd.read_csv(diseases_v20_path, sep=\"\\t\", header=0).iloc[:,0] # We only want the first column, which are the CUIs\n",
    "print(cuis_v20.head())\n",
    "print()\n",
    "print(\"Shape:\", cuis_v20.shape)"
   ]
  },
  {
   "cell_type": "markdown",
   "id": "885f2647",
   "metadata": {},
   "source": [
    "Check for NaN values:"
   ]
  },
  {
   "cell_type": "code",
   "execution_count": 39,
   "id": "d5fae090",
   "metadata": {},
   "outputs": [
    {
     "data": {
      "text/plain": [
       "0"
      ]
     },
     "execution_count": 39,
     "metadata": {},
     "output_type": "execute_result"
    }
   ],
   "source": [
    "cuis_v20.isna().sum()"
   ]
  },
  {
   "cell_type": "markdown",
   "id": "4558c80b",
   "metadata": {},
   "source": [
    "## PHECODE - CUI FILE <a class=\"anchor\" id=\"sixth\"></a>"
   ]
  },
  {
   "cell_type": "markdown",
   "id": "f09b6629",
   "metadata": {},
   "source": [
    "This file is generated in the '\\__main__' section of the 'db/disease_manager.py' script of the disgenet plus pipeline."
   ]
  },
  {
   "cell_type": "code",
   "execution_count": 40,
   "id": "b9beda6a",
   "metadata": {},
   "outputs": [],
   "source": [
    "phecode_cui_path = '/home/ricard/disgenet-curated/phecode_to_cuis.tsv'"
   ]
  },
  {
   "cell_type": "code",
   "execution_count": 41,
   "id": "83251132",
   "metadata": {},
   "outputs": [
    {
     "data": {
      "text/html": [
       "<div>\n",
       "<style scoped>\n",
       "    .dataframe tbody tr th:only-of-type {\n",
       "        vertical-align: middle;\n",
       "    }\n",
       "\n",
       "    .dataframe tbody tr th {\n",
       "        vertical-align: top;\n",
       "    }\n",
       "\n",
       "    .dataframe thead th {\n",
       "        text-align: right;\n",
       "    }\n",
       "</style>\n",
       "<table border=\"1\" class=\"dataframe\">\n",
       "  <thead>\n",
       "    <tr style=\"text-align: right;\">\n",
       "      <th></th>\n",
       "      <th>phecode</th>\n",
       "      <th>CUI</th>\n",
       "    </tr>\n",
       "  </thead>\n",
       "  <tbody>\n",
       "    <tr>\n",
       "      <th>0</th>\n",
       "      <td>008</td>\n",
       "      <td>C0275976, C0152496, C1318565, C0152942, C03433...</td>\n",
       "    </tr>\n",
       "    <tr>\n",
       "      <th>1</th>\n",
       "      <td>008.5</td>\n",
       "      <td>C0343382, C0152496, C1739094, C0374921, C04899...</td>\n",
       "    </tr>\n",
       "    <tr>\n",
       "      <th>2</th>\n",
       "      <td>008.51</td>\n",
       "      <td>C0343379, C0343382, C0343380, C0343381, C04940...</td>\n",
       "    </tr>\n",
       "    <tr>\n",
       "      <th>3</th>\n",
       "      <td>008.52</td>\n",
       "      <td>C0494025</td>\n",
       "    </tr>\n",
       "    <tr>\n",
       "      <th>4</th>\n",
       "      <td>008.6</td>\n",
       "      <td>C0347854, C0489952, C0374937, C0152517, C03749...</td>\n",
       "    </tr>\n",
       "  </tbody>\n",
       "</table>\n",
       "</div>"
      ],
      "text/plain": [
       "  phecode                                                CUI\n",
       "0     008  C0275976, C0152496, C1318565, C0152942, C03433...\n",
       "1   008.5  C0343382, C0152496, C1739094, C0374921, C04899...\n",
       "2  008.51  C0343379, C0343382, C0343380, C0343381, C04940...\n",
       "3  008.52                                           C0494025\n",
       "4   008.6  C0347854, C0489952, C0374937, C0152517, C03749..."
      ]
     },
     "execution_count": 41,
     "metadata": {},
     "output_type": "execute_result"
    }
   ],
   "source": [
    "phecode_cui = pd.read_csv(phecode_cui_path, sep=\"\\t\", header=0, dtype=str)\n",
    "phecode_cui.head()"
   ]
  },
  {
   "cell_type": "code",
   "execution_count": 42,
   "id": "b43a4e1a",
   "metadata": {},
   "outputs": [
    {
     "data": {
      "text/plain": [
       "(1817, 2)"
      ]
     },
     "execution_count": 42,
     "metadata": {},
     "output_type": "execute_result"
    }
   ],
   "source": [
    "phecode_cui.shape"
   ]
  },
  {
   "cell_type": "markdown",
   "id": "ffdfea59",
   "metadata": {},
   "source": [
    "Check for NaN values:"
   ]
  },
  {
   "cell_type": "code",
   "execution_count": 43,
   "id": "7701d46b",
   "metadata": {},
   "outputs": [
    {
     "data": {
      "text/plain": [
       "phecode    0\n",
       "CUI        0\n",
       "dtype: int64"
      ]
     },
     "execution_count": 43,
     "metadata": {},
     "output_type": "execute_result"
    }
   ],
   "source": [
    "phecode_cui.isna().sum()"
   ]
  },
  {
   "cell_type": "markdown",
   "id": "0e8ccb2b",
   "metadata": {},
   "source": [
    "With this code we extend the original dataframe and we crate a redundant one, where for each row there is only a single CUI."
   ]
  },
  {
   "cell_type": "code",
   "execution_count": 44,
   "id": "2903de5a",
   "metadata": {},
   "outputs": [
    {
     "data": {
      "text/html": [
       "<div>\n",
       "<style scoped>\n",
       "    .dataframe tbody tr th:only-of-type {\n",
       "        vertical-align: middle;\n",
       "    }\n",
       "\n",
       "    .dataframe tbody tr th {\n",
       "        vertical-align: top;\n",
       "    }\n",
       "\n",
       "    .dataframe thead th {\n",
       "        text-align: right;\n",
       "    }\n",
       "</style>\n",
       "<table border=\"1\" class=\"dataframe\">\n",
       "  <thead>\n",
       "    <tr style=\"text-align: right;\">\n",
       "      <th></th>\n",
       "      <th>phecode</th>\n",
       "      <th>cui</th>\n",
       "    </tr>\n",
       "  </thead>\n",
       "  <tbody>\n",
       "    <tr>\n",
       "      <th>0</th>\n",
       "      <td>008</td>\n",
       "      <td>C0275976</td>\n",
       "    </tr>\n",
       "    <tr>\n",
       "      <th>1</th>\n",
       "      <td>008</td>\n",
       "      <td>C0152496</td>\n",
       "    </tr>\n",
       "    <tr>\n",
       "      <th>2</th>\n",
       "      <td>008</td>\n",
       "      <td>C1318565</td>\n",
       "    </tr>\n",
       "    <tr>\n",
       "      <th>3</th>\n",
       "      <td>008</td>\n",
       "      <td>C0152942</td>\n",
       "    </tr>\n",
       "    <tr>\n",
       "      <th>4</th>\n",
       "      <td>008</td>\n",
       "      <td>C0343398</td>\n",
       "    </tr>\n",
       "  </tbody>\n",
       "</table>\n",
       "</div>"
      ],
      "text/plain": [
       "  phecode       cui\n",
       "0     008  C0275976\n",
       "1     008  C0152496\n",
       "2     008  C1318565\n",
       "3     008  C0152942\n",
       "4     008  C0343398"
      ]
     },
     "execution_count": 44,
     "metadata": {},
     "output_type": "execute_result"
    }
   ],
   "source": [
    "phecode_cui_ext = pd.DataFrame(columns=['phecode','cui'])\n",
    "\n",
    "for phecode, cuis in zip(phecode_cui.phecode, phecode_cui.CUI):\n",
    "    if len(cuis.split(',')) > 1:\n",
    "        for cui in cuis.split(','):\n",
    "            phecode_cui_ext.loc[len(phecode_cui_ext.index)] = [phecode, cui.strip()]\n",
    "    else:\n",
    "        phecode_cui_ext.loc[len(phecode_cui_ext.index)] = [phecode, cuis]\n",
    "\n",
    "phecode_cui_ext.head()"
   ]
  },
  {
   "cell_type": "code",
   "execution_count": 45,
   "id": "0c48bce0",
   "metadata": {},
   "outputs": [
    {
     "data": {
      "text/plain": [
       "(19265, 2)"
      ]
     },
     "execution_count": 45,
     "metadata": {},
     "output_type": "execute_result"
    }
   ],
   "source": [
    "phecode_cui_ext.shape"
   ]
  },
  {
   "cell_type": "markdown",
   "id": "1ae1a230",
   "metadata": {},
   "source": [
    "Number of unique CUIs stored in the DGN disease index dump file."
   ]
  },
  {
   "cell_type": "code",
   "execution_count": 46,
   "id": "b32c7c9e",
   "metadata": {
    "scrolled": true
   },
   "outputs": [
    {
     "data": {
      "text/plain": [
       "34280"
      ]
     },
     "execution_count": 46,
     "metadata": {},
     "output_type": "execute_result"
    }
   ],
   "source": [
    "dgn_cui_set = set(cuis_v20)\n",
    "len(dgn_cui_set)"
   ]
  },
  {
   "cell_type": "markdown",
   "id": "3b707199",
   "metadata": {},
   "source": [
    "Number of unique CUIs stored in the phecode - CUIs file (from PheWAS Catalog) generated in 'db/disease_manager.py'."
   ]
  },
  {
   "cell_type": "code",
   "execution_count": 47,
   "id": "902fe3f2",
   "metadata": {},
   "outputs": [
    {
     "data": {
      "text/plain": [
       "12642"
      ]
     },
     "execution_count": 47,
     "metadata": {},
     "output_type": "execute_result"
    }
   ],
   "source": [
    "other_cui_set = set(phecode_cui_ext.cui.unique())\n",
    "len(other_cui_set)"
   ]
  },
  {
   "cell_type": "markdown",
   "id": "b6da5c0f",
   "metadata": {},
   "source": [
    "## COMPARISON PHEWAS CATALOG DATA VS. DGN+ DATA  <a class=\"anchor\" id=\"seventh\"></a>"
   ]
  },
  {
   "cell_type": "code",
   "execution_count": 77,
   "id": "4c5228eb",
   "metadata": {},
   "outputs": [
    {
     "name": "stdout",
     "output_type": "stream",
     "text": [
      "\n",
      "      The number of shared CUIs between the CUI set from the DGN dump file and the file \n",
      "      '/home/ricard/disgenet-curated/phecode_to_cuis.tsv' which retrieves the CUIs \n",
      "      using as input the ICD9 codes from PheWAS Catalog by means of the function \n",
      "      'get_cui_from_vocabulary' is 2289. \n",
      "      \n",
      "      This represents a percentage of 18.11% with respect to the number of CUIs retrieved from the ICD9 codes \n",
      "      of the Phewas Catalog.\n"
     ]
    }
   ],
   "source": [
    "x = len(dgn_cui_set.intersection(other_cui_set))\n",
    "print(\"\"\"\n",
    "      The number of shared CUIs between the CUI set from the DGN dump file and the file \n",
    "      '{}' which retrieves the CUIs \n",
    "      using as input the ICD9 codes from PheWAS Catalog by means of the function \n",
    "      'get_cui_from_vocabulary' is {}. \n",
    "      \n",
    "      This represents a percentage of {:.2f}% with respect to the number of CUIs retrieved from the ICD9 codes \n",
    "      of the Phewas Catalog.\"\"\".format(phecode_cui_path, x, float(x/len(other_cui_set))*100))"
   ]
  },
  {
   "cell_type": "markdown",
   "id": "12eaee00",
   "metadata": {},
   "source": [
    "<br>\n",
    "The next two files are derived from the dump files from DGN+. The parent files can be found in the directory \"/ibi/users/janet/DISGENET_PLUS_OUTPUT/\"."
   ]
  },
  {
   "cell_type": "code",
   "execution_count": 49,
   "id": "474f35d5",
   "metadata": {},
   "outputs": [],
   "source": [
    "varID_cui_path = '/home/ricard/Documents/phewas/vda_v20_varID_cui.tsv'"
   ]
  },
  {
   "cell_type": "code",
   "execution_count": 50,
   "id": "dfdd1889",
   "metadata": {},
   "outputs": [
    {
     "data": {
      "text/html": [
       "<div>\n",
       "<style scoped>\n",
       "    .dataframe tbody tr th:only-of-type {\n",
       "        vertical-align: middle;\n",
       "    }\n",
       "\n",
       "    .dataframe tbody tr th {\n",
       "        vertical-align: top;\n",
       "    }\n",
       "\n",
       "    .dataframe thead th {\n",
       "        text-align: right;\n",
       "    }\n",
       "</style>\n",
       "<table border=\"1\" class=\"dataframe\">\n",
       "  <thead>\n",
       "    <tr style=\"text-align: right;\">\n",
       "      <th></th>\n",
       "      <th>VARIANT_ID</th>\n",
       "      <th>DISEASE_CUI</th>\n",
       "    </tr>\n",
       "  </thead>\n",
       "  <tbody>\n",
       "    <tr>\n",
       "      <th>0</th>\n",
       "      <td>1</td>\n",
       "      <td>C0000731</td>\n",
       "    </tr>\n",
       "    <tr>\n",
       "      <th>1</th>\n",
       "      <td>2</td>\n",
       "      <td>C0000737</td>\n",
       "    </tr>\n",
       "    <tr>\n",
       "      <th>2</th>\n",
       "      <td>3</td>\n",
       "      <td>C0011860</td>\n",
       "    </tr>\n",
       "    <tr>\n",
       "      <th>3</th>\n",
       "      <td>4</td>\n",
       "      <td>C0000731</td>\n",
       "    </tr>\n",
       "    <tr>\n",
       "      <th>4</th>\n",
       "      <td>5</td>\n",
       "      <td>C0000737</td>\n",
       "    </tr>\n",
       "  </tbody>\n",
       "</table>\n",
       "</div>"
      ],
      "text/plain": [
       "  VARIANT_ID DISEASE_CUI\n",
       "0          1    C0000731\n",
       "1          2    C0000737\n",
       "2          3    C0011860\n",
       "3          4    C0000731\n",
       "4          5    C0000737"
      ]
     },
     "execution_count": 50,
     "metadata": {},
     "output_type": "execute_result"
    }
   ],
   "source": [
    "varID_cui = pd.read_csv(varID_cui_path, sep=\"\\t\", dtype=str, header=0)\n",
    "varID_cui.head()"
   ]
  },
  {
   "cell_type": "code",
   "execution_count": 51,
   "id": "fd82ea56",
   "metadata": {},
   "outputs": [],
   "source": [
    "varID_snpID_path = '/home/ricard/Documents/phewas/vda_v20_varID_snpID.tsv'"
   ]
  },
  {
   "cell_type": "code",
   "execution_count": 52,
   "id": "b440a355",
   "metadata": {},
   "outputs": [
    {
     "data": {
      "text/html": [
       "<div>\n",
       "<style scoped>\n",
       "    .dataframe tbody tr th:only-of-type {\n",
       "        vertical-align: middle;\n",
       "    }\n",
       "\n",
       "    .dataframe tbody tr th {\n",
       "        vertical-align: top;\n",
       "    }\n",
       "\n",
       "    .dataframe thead th {\n",
       "        text-align: right;\n",
       "    }\n",
       "</style>\n",
       "<table border=\"1\" class=\"dataframe\">\n",
       "  <thead>\n",
       "    <tr style=\"text-align: right;\">\n",
       "      <th></th>\n",
       "      <th>VARIANT_ID</th>\n",
       "      <th>DBSNP_ID</th>\n",
       "    </tr>\n",
       "  </thead>\n",
       "  <tbody>\n",
       "    <tr>\n",
       "      <th>0</th>\n",
       "      <td>1</td>\n",
       "      <td>rs1643491610</td>\n",
       "    </tr>\n",
       "    <tr>\n",
       "      <th>1</th>\n",
       "      <td>2</td>\n",
       "      <td>rs104895219</td>\n",
       "    </tr>\n",
       "    <tr>\n",
       "      <th>2</th>\n",
       "      <td>3</td>\n",
       "      <td>rs117173251</td>\n",
       "    </tr>\n",
       "    <tr>\n",
       "      <th>3</th>\n",
       "      <td>4</td>\n",
       "      <td>rs764412749</td>\n",
       "    </tr>\n",
       "    <tr>\n",
       "      <th>4</th>\n",
       "      <td>5</td>\n",
       "      <td>rs1057518806</td>\n",
       "    </tr>\n",
       "  </tbody>\n",
       "</table>\n",
       "</div>"
      ],
      "text/plain": [
       "  VARIANT_ID      DBSNP_ID\n",
       "0          1  rs1643491610\n",
       "1          2   rs104895219\n",
       "2          3   rs117173251\n",
       "3          4   rs764412749\n",
       "4          5  rs1057518806"
      ]
     },
     "execution_count": 52,
     "metadata": {},
     "output_type": "execute_result"
    }
   ],
   "source": [
    "varID_snpID = pd.read_csv(varID_snpID_path, sep=\"\\t\", dtype=str, header=0)\n",
    "varID_snpID.head()"
   ]
  },
  {
   "cell_type": "markdown",
   "id": "56a0cdd0",
   "metadata": {},
   "source": [
    "We merge the two dataframes using the common column 'VARIANT_ID'."
   ]
  },
  {
   "cell_type": "code",
   "execution_count": 53,
   "id": "f3c6f9a1",
   "metadata": {},
   "outputs": [
    {
     "data": {
      "text/html": [
       "<div>\n",
       "<style scoped>\n",
       "    .dataframe tbody tr th:only-of-type {\n",
       "        vertical-align: middle;\n",
       "    }\n",
       "\n",
       "    .dataframe tbody tr th {\n",
       "        vertical-align: top;\n",
       "    }\n",
       "\n",
       "    .dataframe thead th {\n",
       "        text-align: right;\n",
       "    }\n",
       "</style>\n",
       "<table border=\"1\" class=\"dataframe\">\n",
       "  <thead>\n",
       "    <tr style=\"text-align: right;\">\n",
       "      <th></th>\n",
       "      <th>variant_id</th>\n",
       "      <th>cui</th>\n",
       "      <th>snp</th>\n",
       "    </tr>\n",
       "  </thead>\n",
       "  <tbody>\n",
       "    <tr>\n",
       "      <th>0</th>\n",
       "      <td>1</td>\n",
       "      <td>C0000731</td>\n",
       "      <td>rs1643491610</td>\n",
       "    </tr>\n",
       "    <tr>\n",
       "      <th>1</th>\n",
       "      <td>1</td>\n",
       "      <td>C0041657</td>\n",
       "      <td>rs1643491610</td>\n",
       "    </tr>\n",
       "    <tr>\n",
       "      <th>2</th>\n",
       "      <td>1</td>\n",
       "      <td>C1843156</td>\n",
       "      <td>rs1643491610</td>\n",
       "    </tr>\n",
       "    <tr>\n",
       "      <th>3</th>\n",
       "      <td>1</td>\n",
       "      <td>C1843885</td>\n",
       "      <td>rs1643491610</td>\n",
       "    </tr>\n",
       "    <tr>\n",
       "      <th>4</th>\n",
       "      <td>1</td>\n",
       "      <td>C0452138</td>\n",
       "      <td>rs1643491610</td>\n",
       "    </tr>\n",
       "  </tbody>\n",
       "</table>\n",
       "</div>"
      ],
      "text/plain": [
       "  variant_id       cui           snp\n",
       "0          1  C0000731  rs1643491610\n",
       "1          1  C0041657  rs1643491610\n",
       "2          1  C1843156  rs1643491610\n",
       "3          1  C1843885  rs1643491610\n",
       "4          1  C0452138  rs1643491610"
      ]
     },
     "execution_count": 53,
     "metadata": {},
     "output_type": "execute_result"
    }
   ],
   "source": [
    "dgn_snps = pd.merge(varID_cui, varID_snpID, on='VARIANT_ID', how='inner')\n",
    "dgn_snps.columns = ['variant_id','cui','snp']\n",
    "dgn_snps.head()"
   ]
  },
  {
   "cell_type": "code",
   "execution_count": 54,
   "id": "6c39d1b2",
   "metadata": {},
   "outputs": [
    {
     "data": {
      "text/plain": [
       "(1010102, 3)"
      ]
     },
     "execution_count": 54,
     "metadata": {},
     "output_type": "execute_result"
    }
   ],
   "source": [
    "dgn_snps.shape"
   ]
  },
  {
   "cell_type": "code",
   "execution_count": 55,
   "id": "891a22a9",
   "metadata": {},
   "outputs": [
    {
     "data": {
      "text/plain": [
       "variant_id    0\n",
       "cui           0\n",
       "snp           0\n",
       "dtype: int64"
      ]
     },
     "execution_count": 55,
     "metadata": {},
     "output_type": "execute_result"
    }
   ],
   "source": [
    "dgn_snps.isna().sum()"
   ]
  },
  {
   "cell_type": "markdown",
   "id": "7cb07f82",
   "metadata": {},
   "source": [
    "We want to compare this df with the one we already had created which stores information of the dump file of PheWAS Catalog information (SNPs info). Which is the following:"
   ]
  },
  {
   "cell_type": "code",
   "execution_count": 56,
   "id": "099000aa",
   "metadata": {},
   "outputs": [
    {
     "data": {
      "text/html": [
       "<div>\n",
       "<style scoped>\n",
       "    .dataframe tbody tr th:only-of-type {\n",
       "        vertical-align: middle;\n",
       "    }\n",
       "\n",
       "    .dataframe tbody tr th {\n",
       "        vertical-align: top;\n",
       "    }\n",
       "\n",
       "    .dataframe thead th {\n",
       "        text-align: right;\n",
       "    }\n",
       "</style>\n",
       "<table border=\"1\" class=\"dataframe\">\n",
       "  <thead>\n",
       "    <tr style=\"text-align: right;\">\n",
       "      <th></th>\n",
       "      <th>snp</th>\n",
       "      <th>phecode</th>\n",
       "    </tr>\n",
       "  </thead>\n",
       "  <tbody>\n",
       "    <tr>\n",
       "      <th>0</th>\n",
       "      <td>rs2075650</td>\n",
       "      <td>290.11</td>\n",
       "    </tr>\n",
       "    <tr>\n",
       "      <th>1</th>\n",
       "      <td>rs2075650</td>\n",
       "      <td>290.1</td>\n",
       "    </tr>\n",
       "    <tr>\n",
       "      <th>2</th>\n",
       "      <td>rs12203592</td>\n",
       "      <td>702.1</td>\n",
       "    </tr>\n",
       "    <tr>\n",
       "      <th>3</th>\n",
       "      <td>rs1800562</td>\n",
       "      <td>275.1</td>\n",
       "    </tr>\n",
       "    <tr>\n",
       "      <th>4</th>\n",
       "      <td>rs2075650</td>\n",
       "      <td>290</td>\n",
       "    </tr>\n",
       "  </tbody>\n",
       "</table>\n",
       "</div>"
      ],
      "text/plain": [
       "          snp phecode\n",
       "0   rs2075650  290.11\n",
       "1   rs2075650   290.1\n",
       "2  rs12203592   702.1\n",
       "3   rs1800562   275.1\n",
       "4   rs2075650     290"
      ]
     },
     "execution_count": 56,
     "metadata": {},
     "output_type": "execute_result"
    }
   ],
   "source": [
    "phewas_catalog.head()"
   ]
  },
  {
   "cell_type": "code",
   "execution_count": 62,
   "id": "32815a65",
   "metadata": {},
   "outputs": [
    {
     "name": "stdout",
     "output_type": "stream",
     "text": [
      "There are 3144 unique SNPs in the Phewas Catalog.\n",
      "There are 2014 unique SNPs from phewas catalog present in DGN+.\n"
     ]
    }
   ],
   "source": [
    "dgn_uniq_snps = pd.Series(dgn_snps['snp'].unique())\n",
    "phewas_uniq_snps = pd.Series(phewas_catalog['snp'].unique())\n",
    "series_diff = phewas_uniq_snps.isin(dgn_uniq_snps).sum()\n",
    "print(\"There are {} unique SNPs in the Phewas Catalog.\".format(len(phewas_uniq_snps)))\n",
    "print(\"There are {} unique SNPs from phewas catalog present in DGN+.\".format(series_diff))"
   ]
  },
  {
   "cell_type": "markdown",
   "id": "51524f85",
   "metadata": {},
   "source": [
    "Now we merge the two dataframes, the one from PheWAS Catalog with the one from DGN+, and we create a column that will store a 'True' whenever that combination exists in both previous dataframes, and otherwise a 'False'."
   ]
  },
  {
   "cell_type": "code",
   "execution_count": 72,
   "id": "310d261a",
   "metadata": {},
   "outputs": [
    {
     "data": {
      "text/html": [
       "<div>\n",
       "<style scoped>\n",
       "    .dataframe tbody tr th:only-of-type {\n",
       "        vertical-align: middle;\n",
       "    }\n",
       "\n",
       "    .dataframe tbody tr th {\n",
       "        vertical-align: top;\n",
       "    }\n",
       "\n",
       "    .dataframe thead th {\n",
       "        text-align: right;\n",
       "    }\n",
       "</style>\n",
       "<table border=\"1\" class=\"dataframe\">\n",
       "  <thead>\n",
       "    <tr style=\"text-align: right;\">\n",
       "      <th></th>\n",
       "      <th>cui</th>\n",
       "      <th>snp</th>\n",
       "      <th>exists</th>\n",
       "    </tr>\n",
       "  </thead>\n",
       "  <tbody>\n",
       "    <tr>\n",
       "      <th>0</th>\n",
       "      <td>C0000731</td>\n",
       "      <td>rs1643491610</td>\n",
       "      <td>False</td>\n",
       "    </tr>\n",
       "    <tr>\n",
       "      <th>1</th>\n",
       "      <td>C0041657</td>\n",
       "      <td>rs1643491610</td>\n",
       "      <td>False</td>\n",
       "    </tr>\n",
       "    <tr>\n",
       "      <th>2</th>\n",
       "      <td>C1843156</td>\n",
       "      <td>rs1643491610</td>\n",
       "      <td>False</td>\n",
       "    </tr>\n",
       "    <tr>\n",
       "      <th>3</th>\n",
       "      <td>C1843885</td>\n",
       "      <td>rs1643491610</td>\n",
       "      <td>False</td>\n",
       "    </tr>\n",
       "    <tr>\n",
       "      <th>4</th>\n",
       "      <td>C0452138</td>\n",
       "      <td>rs1643491610</td>\n",
       "      <td>False</td>\n",
       "    </tr>\n",
       "  </tbody>\n",
       "</table>\n",
       "</div>"
      ],
      "text/plain": [
       "        cui           snp  exists\n",
       "0  C0000731  rs1643491610   False\n",
       "1  C0041657  rs1643491610   False\n",
       "2  C1843156  rs1643491610   False\n",
       "3  C1843885  rs1643491610   False\n",
       "4  C0452138  rs1643491610   False"
      ]
     },
     "execution_count": 72,
     "metadata": {},
     "output_type": "execute_result"
    }
   ],
   "source": [
    "# df of the phewas catalog available information\n",
    "phecode_cui_snp = pd.merge(phecode_cui_ext, phewas_catalog, how='inner', on='phecode')\n",
    "# merge previous df with the one from DGN+ named 'dgn_snps'\n",
    "dgn_merged = pd.merge(dgn_snps, phecode_cui_snp, how='left', on=['cui','snp'], indicator='exists')\n",
    "dgn_merged.drop(['variant_id','phecode'], axis=1, inplace=True) # drop unnecessary columns\n",
    "# when the row is found in both df, set a True value in a new column 'exists', otherwise False\n",
    "dgn_merged['exists'] = np.where(dgn_merged.exists=='both', True, False) \n",
    "\n",
    "dgn_merged.head()"
   ]
  },
  {
   "cell_type": "markdown",
   "id": "d7f5b11b",
   "metadata": {},
   "source": [
    "Overview on the PheWAS Catalog final dataframe and its shape."
   ]
  },
  {
   "cell_type": "code",
   "execution_count": 70,
   "id": "133ce6d5",
   "metadata": {},
   "outputs": [
    {
     "data": {
      "text/html": [
       "<div>\n",
       "<style scoped>\n",
       "    .dataframe tbody tr th:only-of-type {\n",
       "        vertical-align: middle;\n",
       "    }\n",
       "\n",
       "    .dataframe tbody tr th {\n",
       "        vertical-align: top;\n",
       "    }\n",
       "\n",
       "    .dataframe thead th {\n",
       "        text-align: right;\n",
       "    }\n",
       "</style>\n",
       "<table border=\"1\" class=\"dataframe\">\n",
       "  <thead>\n",
       "    <tr style=\"text-align: right;\">\n",
       "      <th></th>\n",
       "      <th>phecode</th>\n",
       "      <th>cui</th>\n",
       "      <th>snp</th>\n",
       "    </tr>\n",
       "  </thead>\n",
       "  <tbody>\n",
       "    <tr>\n",
       "      <th>0</th>\n",
       "      <td>008</td>\n",
       "      <td>C0275976</td>\n",
       "      <td>rs690037</td>\n",
       "    </tr>\n",
       "    <tr>\n",
       "      <th>1</th>\n",
       "      <td>008</td>\n",
       "      <td>C0275976</td>\n",
       "      <td>rs1999930</td>\n",
       "    </tr>\n",
       "    <tr>\n",
       "      <th>2</th>\n",
       "      <td>008</td>\n",
       "      <td>C0275976</td>\n",
       "      <td>rs10510829</td>\n",
       "    </tr>\n",
       "    <tr>\n",
       "      <th>3</th>\n",
       "      <td>008</td>\n",
       "      <td>C0275976</td>\n",
       "      <td>rs8033165</td>\n",
       "    </tr>\n",
       "    <tr>\n",
       "      <th>4</th>\n",
       "      <td>008</td>\n",
       "      <td>C0275976</td>\n",
       "      <td>rs10767971</td>\n",
       "    </tr>\n",
       "  </tbody>\n",
       "</table>\n",
       "</div>"
      ],
      "text/plain": [
       "  phecode       cui         snp\n",
       "0     008  C0275976    rs690037\n",
       "1     008  C0275976   rs1999930\n",
       "2     008  C0275976  rs10510829\n",
       "3     008  C0275976   rs8033165\n",
       "4     008  C0275976  rs10767971"
      ]
     },
     "execution_count": 70,
     "metadata": {},
     "output_type": "execute_result"
    }
   ],
   "source": [
    "phecode_cui_snp.head()"
   ]
  },
  {
   "cell_type": "code",
   "execution_count": 71,
   "id": "23a4a333",
   "metadata": {},
   "outputs": [
    {
     "data": {
      "text/plain": [
       "(2485030, 3)"
      ]
     },
     "execution_count": 71,
     "metadata": {},
     "output_type": "execute_result"
    }
   ],
   "source": [
    "phecode_cui_snp.shape"
   ]
  },
  {
   "cell_type": "markdown",
   "id": "13f683ee",
   "metadata": {},
   "source": [
    "## OVERALL STATISTICS BETWEEN DGN+ AND PHEWAS CATALOG <a class=\"anchor\" id=\"eigth\"></a>"
   ]
  },
  {
   "cell_type": "code",
   "execution_count": 75,
   "id": "21e94f70",
   "metadata": {},
   "outputs": [
    {
     "name": "stdout",
     "output_type": "stream",
     "text": [
      "CUIs: 1010328.\tUnique CUIs: 15209\n",
      "SNPs: 1010328.\tUnique SNPs: 578958\n",
      "Shared between datasets: 772.\tNot shared between datasets: 1009556\n"
     ]
    }
   ],
   "source": [
    "print(\"CUIs: {}.\\tUnique CUIs: {}\".format(dgn_merged.cui.notna().sum(), dgn_merged.cui.nunique()))\n",
    "print(\"SNPs: {}.\\tUnique SNPs: {}\".format(dgn_merged.snp.notna().sum(), dgn_merged.snp.nunique()))\n",
    "print(\"Shared between datasets: {}.\\tNot shared between datasets: {}\".format(dgn_merged.exists.sum(), len(dgn_merged.exists) - dgn_merged.exists.sum()))"
   ]
  },
  {
   "cell_type": "code",
   "execution_count": 76,
   "id": "101bfd90",
   "metadata": {},
   "outputs": [
    {
     "name": "stdout",
     "output_type": "stream",
     "text": [
      "There are 772 SNP-CUI entries present both in DGN+ and in Phewas Catalog, out of 1010328 entries.\n",
      "There are 15209 unique CUIs in the merged df. From these, only 163 are shared between both datasets.\n",
      "There are 578958 unique SNPs in the merged df. From these, only 314 are shared between both datasets.\n"
     ]
    }
   ],
   "source": [
    "print(\"There are {} SNP-CUI entries present both in DGN+ and in Phewas Catalog, out of {} entries.\".format(dgn_merged.exists.sum(), len(dgn_merged)))\n",
    "print(\"There are {} unique CUIs in the merged df. From these, only {} are shared between both datasets.\".format(dgn_merged.cui.nunique(), dgn_merged[dgn_merged.exists]['cui'].nunique()))\n",
    "print(\"There are {} unique SNPs in the merged df. From these, only {} are shared between both datasets.\".format(dgn_merged.snp.nunique(), dgn_merged[dgn_merged.exists]['snp'].nunique()))"
   ]
  },
  {
   "cell_type": "markdown",
   "id": "27a5659a",
   "metadata": {},
   "source": [
    "## DISTRIBUTION OF SNPs BY PHECODE <a class=\"anchor\" id=\"ninth\"></a>"
   ]
  },
  {
   "cell_type": "markdown",
   "id": "78c63290",
   "metadata": {},
   "source": [
    "The following histograms are based on the PheWAS Catalog available dataset. "
   ]
  },
  {
   "cell_type": "code",
   "execution_count": 90,
   "id": "ce947b61",
   "metadata": {},
   "outputs": [
    {
     "data": {
      "text/html": [
       "<div>\n",
       "<style scoped>\n",
       "    .dataframe tbody tr th:only-of-type {\n",
       "        vertical-align: middle;\n",
       "    }\n",
       "\n",
       "    .dataframe tbody tr th {\n",
       "        vertical-align: top;\n",
       "    }\n",
       "\n",
       "    .dataframe thead th {\n",
       "        text-align: right;\n",
       "    }\n",
       "</style>\n",
       "<table border=\"1\" class=\"dataframe\">\n",
       "  <thead>\n",
       "    <tr style=\"text-align: right;\">\n",
       "      <th></th>\n",
       "      <th>phecode</th>\n",
       "      <th>snp_count</th>\n",
       "    </tr>\n",
       "  </thead>\n",
       "  <tbody>\n",
       "    <tr>\n",
       "      <th>0</th>\n",
       "      <td>853</td>\n",
       "      <td>97</td>\n",
       "    </tr>\n",
       "    <tr>\n",
       "      <th>1</th>\n",
       "      <td>513.8</td>\n",
       "      <td>109</td>\n",
       "    </tr>\n",
       "    <tr>\n",
       "      <th>2</th>\n",
       "      <td>560.3</td>\n",
       "      <td>111</td>\n",
       "    </tr>\n",
       "    <tr>\n",
       "      <th>3</th>\n",
       "      <td>958</td>\n",
       "      <td>113</td>\n",
       "    </tr>\n",
       "    <tr>\n",
       "      <th>4</th>\n",
       "      <td>540.11</td>\n",
       "      <td>113</td>\n",
       "    </tr>\n",
       "  </tbody>\n",
       "</table>\n",
       "</div>"
      ],
      "text/plain": [
       "  phecode  snp_count\n",
       "0     853         97\n",
       "1   513.8        109\n",
       "2   560.3        111\n",
       "3     958        113\n",
       "4  540.11        113"
      ]
     },
     "execution_count": 90,
     "metadata": {},
     "output_type": "execute_result"
    }
   ],
   "source": [
    "phecode_snpcnt = phewas_catalog.groupby('phecode')['snp'].count().sort_values().reset_index().rename(columns={\n",
    "                                                                                   'snp':'snp_count'})\n",
    "phecode_snpcnt.head()"
   ]
  },
  {
   "cell_type": "code",
   "execution_count": 98,
   "id": "da39ba19",
   "metadata": {},
   "outputs": [
    {
     "data": {
      "text/html": [
       "<div>\n",
       "<style scoped>\n",
       "    .dataframe tbody tr th:only-of-type {\n",
       "        vertical-align: middle;\n",
       "    }\n",
       "\n",
       "    .dataframe tbody tr th {\n",
       "        vertical-align: top;\n",
       "    }\n",
       "\n",
       "    .dataframe thead th {\n",
       "        text-align: right;\n",
       "    }\n",
       "</style>\n",
       "<table border=\"1\" class=\"dataframe\">\n",
       "  <thead>\n",
       "    <tr style=\"text-align: right;\">\n",
       "      <th></th>\n",
       "      <th>snp_count</th>\n",
       "    </tr>\n",
       "  </thead>\n",
       "  <tbody>\n",
       "    <tr>\n",
       "      <th>count</th>\n",
       "      <td>1358.000000</td>\n",
       "    </tr>\n",
       "    <tr>\n",
       "      <th>mean</th>\n",
       "      <td>158.399853</td>\n",
       "    </tr>\n",
       "    <tr>\n",
       "      <th>std</th>\n",
       "      <td>18.414812</td>\n",
       "    </tr>\n",
       "    <tr>\n",
       "      <th>min</th>\n",
       "      <td>97.000000</td>\n",
       "    </tr>\n",
       "    <tr>\n",
       "      <th>25%</th>\n",
       "      <td>146.000000</td>\n",
       "    </tr>\n",
       "    <tr>\n",
       "      <th>50%</th>\n",
       "      <td>157.000000</td>\n",
       "    </tr>\n",
       "    <tr>\n",
       "      <th>75%</th>\n",
       "      <td>169.000000</td>\n",
       "    </tr>\n",
       "    <tr>\n",
       "      <th>max</th>\n",
       "      <td>240.000000</td>\n",
       "    </tr>\n",
       "  </tbody>\n",
       "</table>\n",
       "</div>"
      ],
      "text/plain": [
       "         snp_count\n",
       "count  1358.000000\n",
       "mean    158.399853\n",
       "std      18.414812\n",
       "min      97.000000\n",
       "25%     146.000000\n",
       "50%     157.000000\n",
       "75%     169.000000\n",
       "max     240.000000"
      ]
     },
     "execution_count": 98,
     "metadata": {},
     "output_type": "execute_result"
    }
   ],
   "source": [
    "phecode_snpcnt.describe()"
   ]
  },
  {
   "cell_type": "markdown",
   "id": "ff9afd05",
   "metadata": {},
   "source": [
    "With the following histogram we can see that the majority of Phecodes from the PheWAS Catalog have a SNP count between 140-180."
   ]
  },
  {
   "cell_type": "code",
   "execution_count": 91,
   "id": "7194f306",
   "metadata": {},
   "outputs": [
    {
     "data": {
      "text/plain": [
       "<AxesSubplot: ylabel='Frequency'>"
      ]
     },
     "execution_count": 91,
     "metadata": {},
     "output_type": "execute_result"
    },
    {
     "data": {
      "image/png": "[encoded data removed]",
      "text/plain": [
       "<Figure size 1440x720 with 1 Axes>"
      ]
     },
     "metadata": {},
     "output_type": "display_data"
    }
   ],
   "source": [
    "phecode_snpcnt.plot.hist(bins=50)"
   ]
  },
  {
   "cell_type": "markdown",
   "id": "5a7aaada",
   "metadata": {},
   "source": [
    "## DISTRIBUTION OF SNPS BY ICD9 CODE <a class=\"anchor\" id=\"tenth\"></a>"
   ]
  },
  {
   "cell_type": "code",
   "execution_count": 92,
   "id": "3cfa513c",
   "metadata": {},
   "outputs": [],
   "source": [
    "snps_by_icd = pd.merge(icd_phecodes, phewas_catalog, on = 'phecode')"
   ]
  },
  {
   "cell_type": "code",
   "execution_count": 93,
   "id": "31a527c5",
   "metadata": {},
   "outputs": [
    {
     "data": {
      "text/html": [
       "<div>\n",
       "<style scoped>\n",
       "    .dataframe tbody tr th:only-of-type {\n",
       "        vertical-align: middle;\n",
       "    }\n",
       "\n",
       "    .dataframe tbody tr th {\n",
       "        vertical-align: top;\n",
       "    }\n",
       "\n",
       "    .dataframe thead th {\n",
       "        text-align: right;\n",
       "    }\n",
       "</style>\n",
       "<table border=\"1\" class=\"dataframe\">\n",
       "  <thead>\n",
       "    <tr style=\"text-align: right;\">\n",
       "      <th></th>\n",
       "      <th>icd9</th>\n",
       "      <th>phecode</th>\n",
       "      <th>snp</th>\n",
       "    </tr>\n",
       "  </thead>\n",
       "  <tbody>\n",
       "    <tr>\n",
       "      <th>0</th>\n",
       "      <td>001</td>\n",
       "      <td>008</td>\n",
       "      <td>rs690037</td>\n",
       "    </tr>\n",
       "    <tr>\n",
       "      <th>1</th>\n",
       "      <td>001</td>\n",
       "      <td>008</td>\n",
       "      <td>rs1999930</td>\n",
       "    </tr>\n",
       "    <tr>\n",
       "      <th>2</th>\n",
       "      <td>001</td>\n",
       "      <td>008</td>\n",
       "      <td>rs10510829</td>\n",
       "    </tr>\n",
       "    <tr>\n",
       "      <th>3</th>\n",
       "      <td>001</td>\n",
       "      <td>008</td>\n",
       "      <td>rs8033165</td>\n",
       "    </tr>\n",
       "    <tr>\n",
       "      <th>4</th>\n",
       "      <td>001</td>\n",
       "      <td>008</td>\n",
       "      <td>rs10767971</td>\n",
       "    </tr>\n",
       "  </tbody>\n",
       "</table>\n",
       "</div>"
      ],
      "text/plain": [
       "  icd9 phecode         snp\n",
       "0  001     008    rs690037\n",
       "1  001     008   rs1999930\n",
       "2  001     008  rs10510829\n",
       "3  001     008   rs8033165\n",
       "4  001     008  rs10767971"
      ]
     },
     "execution_count": 93,
     "metadata": {},
     "output_type": "execute_result"
    }
   ],
   "source": [
    "snps_by_icd.head()"
   ]
  },
  {
   "cell_type": "code",
   "execution_count": 94,
   "id": "dc88eff4",
   "metadata": {},
   "outputs": [
    {
     "data": {
      "text/plain": [
       "icd9       0\n",
       "phecode    0\n",
       "snp        0\n",
       "dtype: int64"
      ]
     },
     "execution_count": 94,
     "metadata": {},
     "output_type": "execute_result"
    }
   ],
   "source": [
    "snps_by_icd.isna().sum()"
   ]
  },
  {
   "cell_type": "code",
   "execution_count": 95,
   "id": "7eacf062",
   "metadata": {},
   "outputs": [
    {
     "data": {
      "text/html": [
       "<div>\n",
       "<style scoped>\n",
       "    .dataframe tbody tr th:only-of-type {\n",
       "        vertical-align: middle;\n",
       "    }\n",
       "\n",
       "    .dataframe tbody tr th {\n",
       "        vertical-align: top;\n",
       "    }\n",
       "\n",
       "    .dataframe thead th {\n",
       "        text-align: right;\n",
       "    }\n",
       "</style>\n",
       "<table border=\"1\" class=\"dataframe\">\n",
       "  <thead>\n",
       "    <tr style=\"text-align: right;\">\n",
       "      <th></th>\n",
       "      <th>icd9</th>\n",
       "      <th>snp_count</th>\n",
       "    </tr>\n",
       "  </thead>\n",
       "  <tbody>\n",
       "    <tr>\n",
       "      <th>0</th>\n",
       "      <td>569.60</td>\n",
       "      <td>97</td>\n",
       "    </tr>\n",
       "    <tr>\n",
       "      <th>1</th>\n",
       "      <td>569.69</td>\n",
       "      <td>97</td>\n",
       "    </tr>\n",
       "    <tr>\n",
       "      <th>2</th>\n",
       "      <td>569.61</td>\n",
       "      <td>97</td>\n",
       "    </tr>\n",
       "    <tr>\n",
       "      <th>3</th>\n",
       "      <td>958.0</td>\n",
       "      <td>113</td>\n",
       "    </tr>\n",
       "    <tr>\n",
       "      <th>4</th>\n",
       "      <td>958.6</td>\n",
       "      <td>113</td>\n",
       "    </tr>\n",
       "  </tbody>\n",
       "</table>\n",
       "</div>"
      ],
      "text/plain": [
       "     icd9  snp_count\n",
       "0  569.60         97\n",
       "1  569.69         97\n",
       "2  569.61         97\n",
       "3   958.0        113\n",
       "4   958.6        113"
      ]
     },
     "execution_count": 95,
     "metadata": {},
     "output_type": "execute_result"
    }
   ],
   "source": [
    "snps_counts_by_icd = snps_by_icd.groupby('icd9')['snp'].count().sort_values().reset_index().rename(columns=\n",
    "                                                                                                  {'snp':'snp_count'})\n",
    "snps_counts_by_icd.head()"
   ]
  },
  {
   "cell_type": "code",
   "execution_count": 96,
   "id": "d116f478",
   "metadata": {},
   "outputs": [
    {
     "data": {
      "text/html": [
       "<div>\n",
       "<style scoped>\n",
       "    .dataframe tbody tr th:only-of-type {\n",
       "        vertical-align: middle;\n",
       "    }\n",
       "\n",
       "    .dataframe tbody tr th {\n",
       "        vertical-align: top;\n",
       "    }\n",
       "\n",
       "    .dataframe thead th {\n",
       "        text-align: right;\n",
       "    }\n",
       "</style>\n",
       "<table border=\"1\" class=\"dataframe\">\n",
       "  <thead>\n",
       "    <tr style=\"text-align: right;\">\n",
       "      <th></th>\n",
       "      <th>snp_count</th>\n",
       "    </tr>\n",
       "  </thead>\n",
       "  <tbody>\n",
       "    <tr>\n",
       "      <th>count</th>\n",
       "      <td>11633.000000</td>\n",
       "    </tr>\n",
       "    <tr>\n",
       "      <th>mean</th>\n",
       "      <td>230.940342</td>\n",
       "    </tr>\n",
       "    <tr>\n",
       "      <th>std</th>\n",
       "      <td>103.639584</td>\n",
       "    </tr>\n",
       "    <tr>\n",
       "      <th>min</th>\n",
       "      <td>97.000000</td>\n",
       "    </tr>\n",
       "    <tr>\n",
       "      <th>25%</th>\n",
       "      <td>151.000000</td>\n",
       "    </tr>\n",
       "    <tr>\n",
       "      <th>50%</th>\n",
       "      <td>171.000000</td>\n",
       "    </tr>\n",
       "    <tr>\n",
       "      <th>75%</th>\n",
       "      <td>318.000000</td>\n",
       "    </tr>\n",
       "    <tr>\n",
       "      <th>max</th>\n",
       "      <td>681.000000</td>\n",
       "    </tr>\n",
       "  </tbody>\n",
       "</table>\n",
       "</div>"
      ],
      "text/plain": [
       "          snp_count\n",
       "count  11633.000000\n",
       "mean     230.940342\n",
       "std      103.639584\n",
       "min       97.000000\n",
       "25%      151.000000\n",
       "50%      171.000000\n",
       "75%      318.000000\n",
       "max      681.000000"
      ]
     },
     "execution_count": 96,
     "metadata": {},
     "output_type": "execute_result"
    }
   ],
   "source": [
    "snps_counts_by_icd.describe()"
   ]
  },
  {
   "cell_type": "code",
   "execution_count": 97,
   "id": "a361d94c",
   "metadata": {},
   "outputs": [
    {
     "data": {
      "text/plain": [
       "<AxesSubplot: ylabel='Frequency'>"
      ]
     },
     "execution_count": 97,
     "metadata": {},
     "output_type": "execute_result"
    },
    {
     "data": {
      "image/png": "[encoded data removed]",
      "text/plain": [
       "<Figure size 1440x720 with 1 Axes>"
      ]
     },
     "metadata": {},
     "output_type": "display_data"
    }
   ],
   "source": [
    "snps_counts_by_icd.plot.hist(bins=200)"
   ]
  },
  {
   "cell_type": "markdown",
   "id": "069f195a",
   "metadata": {},
   "source": [
    "## DISTRIBUTION OF PHECODES BY SNPS <a class=\"anchor\" id=\"eleventh\"></a>"
   ]
  },
  {
   "cell_type": "code",
   "execution_count": 99,
   "id": "44407dbc",
   "metadata": {
    "scrolled": true
   },
   "outputs": [
    {
     "data": {
      "text/html": [
       "<div>\n",
       "<style scoped>\n",
       "    .dataframe tbody tr th:only-of-type {\n",
       "        vertical-align: middle;\n",
       "    }\n",
       "\n",
       "    .dataframe tbody tr th {\n",
       "        vertical-align: top;\n",
       "    }\n",
       "\n",
       "    .dataframe thead th {\n",
       "        text-align: right;\n",
       "    }\n",
       "</style>\n",
       "<table border=\"1\" class=\"dataframe\">\n",
       "  <thead>\n",
       "    <tr style=\"text-align: right;\">\n",
       "      <th></th>\n",
       "      <th>snp</th>\n",
       "      <th>phecode_count</th>\n",
       "    </tr>\n",
       "  </thead>\n",
       "  <tbody>\n",
       "    <tr>\n",
       "      <th>0</th>\n",
       "      <td>rs2274089</td>\n",
       "      <td>31</td>\n",
       "    </tr>\n",
       "    <tr>\n",
       "      <th>1</th>\n",
       "      <td>rs1880887</td>\n",
       "      <td>32</td>\n",
       "    </tr>\n",
       "    <tr>\n",
       "      <th>2</th>\n",
       "      <td>rs1206397</td>\n",
       "      <td>33</td>\n",
       "    </tr>\n",
       "    <tr>\n",
       "      <th>3</th>\n",
       "      <td>rs6903896</td>\n",
       "      <td>34</td>\n",
       "    </tr>\n",
       "    <tr>\n",
       "      <th>4</th>\n",
       "      <td>rs10510146</td>\n",
       "      <td>34</td>\n",
       "    </tr>\n",
       "  </tbody>\n",
       "</table>\n",
       "</div>"
      ],
      "text/plain": [
       "          snp  phecode_count\n",
       "0   rs2274089             31\n",
       "1   rs1880887             32\n",
       "2   rs1206397             33\n",
       "3   rs6903896             34\n",
       "4  rs10510146             34"
      ]
     },
     "execution_count": 99,
     "metadata": {},
     "output_type": "execute_result"
    }
   ],
   "source": [
    "snp_phecodecnt = phewas_catalog.groupby('snp')['phecode'].count().sort_values().reset_index().rename(columns={\n",
    "                                                                                   'phecode':'phecode_count'})\n",
    "snp_phecodecnt.head()"
   ]
  },
  {
   "cell_type": "code",
   "execution_count": 100,
   "id": "b11e7f53",
   "metadata": {},
   "outputs": [
    {
     "data": {
      "text/html": [
       "<div>\n",
       "<style scoped>\n",
       "    .dataframe tbody tr th:only-of-type {\n",
       "        vertical-align: middle;\n",
       "    }\n",
       "\n",
       "    .dataframe tbody tr th {\n",
       "        vertical-align: top;\n",
       "    }\n",
       "\n",
       "    .dataframe thead th {\n",
       "        text-align: right;\n",
       "    }\n",
       "</style>\n",
       "<table border=\"1\" class=\"dataframe\">\n",
       "  <thead>\n",
       "    <tr style=\"text-align: right;\">\n",
       "      <th></th>\n",
       "      <th>phecode_count</th>\n",
       "    </tr>\n",
       "  </thead>\n",
       "  <tbody>\n",
       "    <tr>\n",
       "      <th>count</th>\n",
       "      <td>3144.000000</td>\n",
       "    </tr>\n",
       "    <tr>\n",
       "      <th>mean</th>\n",
       "      <td>68.418257</td>\n",
       "    </tr>\n",
       "    <tr>\n",
       "      <th>std</th>\n",
       "      <td>14.454345</td>\n",
       "    </tr>\n",
       "    <tr>\n",
       "      <th>min</th>\n",
       "      <td>31.000000</td>\n",
       "    </tr>\n",
       "    <tr>\n",
       "      <th>25%</th>\n",
       "      <td>59.000000</td>\n",
       "    </tr>\n",
       "    <tr>\n",
       "      <th>50%</th>\n",
       "      <td>67.000000</td>\n",
       "    </tr>\n",
       "    <tr>\n",
       "      <th>75%</th>\n",
       "      <td>76.000000</td>\n",
       "    </tr>\n",
       "    <tr>\n",
       "      <th>max</th>\n",
       "      <td>165.000000</td>\n",
       "    </tr>\n",
       "  </tbody>\n",
       "</table>\n",
       "</div>"
      ],
      "text/plain": [
       "       phecode_count\n",
       "count    3144.000000\n",
       "mean       68.418257\n",
       "std        14.454345\n",
       "min        31.000000\n",
       "25%        59.000000\n",
       "50%        67.000000\n",
       "75%        76.000000\n",
       "max       165.000000"
      ]
     },
     "execution_count": 100,
     "metadata": {},
     "output_type": "execute_result"
    }
   ],
   "source": [
    "snp_phecodecnt.describe()"
   ]
  },
  {
   "cell_type": "code",
   "execution_count": 105,
   "id": "96d55857",
   "metadata": {},
   "outputs": [
    {
     "data": {
      "text/plain": [
       "<AxesSubplot: ylabel='Frequency'>"
      ]
     },
     "execution_count": 105,
     "metadata": {},
     "output_type": "execute_result"
    },
    {
     "data": {
      "image/png": "[encoded data removed]",
      "text/plain": [
       "<Figure size 1440x720 with 1 Axes>"
      ]
     },
     "metadata": {},
     "output_type": "display_data"
    }
   ],
   "source": [
    "snp_phecodecnt.plot.hist(bins=200)"
   ]
  },
  {
   "cell_type": "markdown",
   "id": "7baecc0b",
   "metadata": {},
   "source": [
    "## PERCENTAGE OF PHECODE - ICD9 SHARING THE SAME CODE <a class=\"anchor\" id=\"twelfth\"></a>"
   ]
  },
  {
   "cell_type": "code",
   "execution_count": 79,
   "id": "8ddbe3f7",
   "metadata": {
    "collapsed": true
   },
   "outputs": [
    {
     "data": {
      "text/html": [
       "<div>\n",
       "<style scoped>\n",
       "    .dataframe tbody tr th:only-of-type {\n",
       "        vertical-align: middle;\n",
       "    }\n",
       "\n",
       "    .dataframe tbody tr th {\n",
       "        vertical-align: top;\n",
       "    }\n",
       "\n",
       "    .dataframe thead th {\n",
       "        text-align: right;\n",
       "    }\n",
       "</style>\n",
       "<table border=\"1\" class=\"dataframe\">\n",
       "  <thead>\n",
       "    <tr style=\"text-align: right;\">\n",
       "      <th></th>\n",
       "      <th>phecode</th>\n",
       "      <th>phenotype</th>\n",
       "      <th>icd9</th>\n",
       "    </tr>\n",
       "  </thead>\n",
       "  <tbody>\n",
       "    <tr>\n",
       "      <th>0</th>\n",
       "      <td>008</td>\n",
       "      <td>Intestinal infection</td>\n",
       "      <td>001</td>\n",
       "    </tr>\n",
       "    <tr>\n",
       "      <th>1</th>\n",
       "      <td>008</td>\n",
       "      <td>Intestinal infection</td>\n",
       "      <td>001.0</td>\n",
       "    </tr>\n",
       "    <tr>\n",
       "      <th>2</th>\n",
       "      <td>008</td>\n",
       "      <td>Intestinal infection</td>\n",
       "      <td>001.1</td>\n",
       "    </tr>\n",
       "    <tr>\n",
       "      <th>3</th>\n",
       "      <td>008</td>\n",
       "      <td>Intestinal infection</td>\n",
       "      <td>001.9</td>\n",
       "    </tr>\n",
       "    <tr>\n",
       "      <th>4</th>\n",
       "      <td>008</td>\n",
       "      <td>Intestinal infection</td>\n",
       "      <td>002</td>\n",
       "    </tr>\n",
       "  </tbody>\n",
       "</table>\n",
       "</div>"
      ],
      "text/plain": [
       "  phecode             phenotype   icd9\n",
       "0     008  Intestinal infection    001\n",
       "1     008  Intestinal infection  001.0\n",
       "2     008  Intestinal infection  001.1\n",
       "3     008  Intestinal infection  001.9\n",
       "4     008  Intestinal infection    002"
      ]
     },
     "execution_count": 79,
     "metadata": {},
     "output_type": "execute_result"
    }
   ],
   "source": [
    "phecode_pheno_icd.head()"
   ]
  },
  {
   "cell_type": "code",
   "execution_count": 87,
   "id": "dcb21d1b",
   "metadata": {
    "collapsed": true
   },
   "outputs": [
    {
     "data": {
      "text/plain": [
       "'In the PheWAS catalog there are 1817 unique Phecodes.'"
      ]
     },
     "execution_count": 87,
     "metadata": {},
     "output_type": "execute_result"
    }
   ],
   "source": [
    "\"In the PheWAS catalog there are {} unique Phecodes.\".format(phecode_pheno_icd['phecode'].nunique())"
   ]
  },
  {
   "cell_type": "code",
   "execution_count": 83,
   "id": "628a343f",
   "metadata": {
    "collapsed": true
   },
   "outputs": [
    {
     "data": {
      "text/html": [
       "<div>\n",
       "<style scoped>\n",
       "    .dataframe tbody tr th:only-of-type {\n",
       "        vertical-align: middle;\n",
       "    }\n",
       "\n",
       "    .dataframe tbody tr th {\n",
       "        vertical-align: top;\n",
       "    }\n",
       "\n",
       "    .dataframe thead th {\n",
       "        text-align: right;\n",
       "    }\n",
       "</style>\n",
       "<table border=\"1\" class=\"dataframe\">\n",
       "  <thead>\n",
       "    <tr style=\"text-align: right;\">\n",
       "      <th></th>\n",
       "      <th>phecode</th>\n",
       "      <th>phenotype</th>\n",
       "      <th>icd9</th>\n",
       "    </tr>\n",
       "  </thead>\n",
       "  <tbody>\n",
       "    <tr>\n",
       "      <th>53</th>\n",
       "      <td>008</td>\n",
       "      <td>Intestinal infection</td>\n",
       "      <td>008</td>\n",
       "    </tr>\n",
       "    <tr>\n",
       "      <th>134</th>\n",
       "      <td>008.5</td>\n",
       "      <td>Bacterial enteritis</td>\n",
       "      <td>008.5</td>\n",
       "    </tr>\n",
       "    <tr>\n",
       "      <th>143</th>\n",
       "      <td>008.6</td>\n",
       "      <td>Viral Enteritis</td>\n",
       "      <td>008.6</td>\n",
       "    </tr>\n",
       "    <tr>\n",
       "      <th>158</th>\n",
       "      <td>010</td>\n",
       "      <td>Tuberculosis</td>\n",
       "      <td>010</td>\n",
       "    </tr>\n",
       "    <tr>\n",
       "      <th>661</th>\n",
       "      <td>031</td>\n",
       "      <td>Diseases due to other mycobacteria</td>\n",
       "      <td>031</td>\n",
       "    </tr>\n",
       "  </tbody>\n",
       "</table>\n",
       "</div>"
      ],
      "text/plain": [
       "    phecode                           phenotype   icd9\n",
       "53      008                Intestinal infection    008\n",
       "134   008.5                 Bacterial enteritis  008.5\n",
       "143   008.6                     Viral Enteritis  008.6\n",
       "158     010                        Tuberculosis    010\n",
       "661     031  Diseases due to other mycobacteria    031"
      ]
     },
     "execution_count": 83,
     "metadata": {},
     "output_type": "execute_result"
    }
   ],
   "source": [
    "x = phecode_pheno_icd.query('phecode == icd9')\n",
    "x.head()"
   ]
  },
  {
   "cell_type": "markdown",
   "id": "b573bd9f",
   "metadata": {},
   "source": [
    "Store the previous dataframe as 1 column list."
   ]
  },
  {
   "cell_type": "code",
   "execution_count": 97,
   "id": "53f5d26a",
   "metadata": {},
   "outputs": [],
   "source": [
    "path = \"~/disgenet-curated/matching_phecode_icd9.tsv\"\n",
    "x.iloc[:,[0]].to_csv(path, header=True, index=None)"
   ]
  },
  {
   "cell_type": "code",
   "execution_count": 85,
   "id": "473c55a3",
   "metadata": {
    "collapsed": true
   },
   "outputs": [
    {
     "data": {
      "text/plain": [
       "(639, 3)"
      ]
     },
     "execution_count": 85,
     "metadata": {},
     "output_type": "execute_result"
    }
   ],
   "source": [
    "x.shape"
   ]
  },
  {
   "cell_type": "code",
   "execution_count": 90,
   "id": "508e6603",
   "metadata": {
    "collapsed": true
   },
   "outputs": [
    {
     "data": {
      "text/plain": [
       "\"After filtering by rows where 'phecode' and 'icd9' fields are the same, 639 unique Phecodes remain.\""
      ]
     },
     "execution_count": 90,
     "metadata": {},
     "output_type": "execute_result"
    }
   ],
   "source": [
    "\"After filtering by rows where 'phecode' and 'icd9' fields are the same, {} unique Phecodes remain.\".format(x['phecode'].nunique())"
   ]
  },
  {
   "cell_type": "code",
   "execution_count": 91,
   "id": "83725b55",
   "metadata": {
    "collapsed": true
   },
   "outputs": [
    {
     "data": {
      "text/plain": [
       "'A percentage of 35.17% Phecodes have an exactly matching ICD9 code.'"
      ]
     },
     "execution_count": 91,
     "metadata": {},
     "output_type": "execute_result"
    }
   ],
   "source": [
    "\"A percentage of {:.2f}% Phecodes have an exactly matching ICD9 code.\".format(x['phecode'].nunique()/phecode_pheno_icd['phecode'].nunique()*100)"
   ]
  }
 ],
 "metadata": {
  "kernelspec": {
   "display_name": "disgenet",
   "language": "python",
   "name": "disgenet"
  },
  "language_info": {
   "codemirror_mode": {
    "name": "ipython",
    "version": 3
   },
   "file_extension": ".py",
   "mimetype": "text/x-python",
   "name": "python",
   "nbconvert_exporter": "python",
   "pygments_lexer": "ipython3",
   "version": "3.7.9"
  }
 },
 "nbformat": 4,
 "nbformat_minor": 5
}
